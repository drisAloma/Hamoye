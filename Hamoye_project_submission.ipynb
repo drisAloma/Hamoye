{
 "cells": [
  {
   "cell_type": "code",
   "execution_count": 4,
   "id": "ab807d46",
   "metadata": {},
   "outputs": [],
   "source": [
    "import pandas as pd\n",
    "import numpy as np\n",
    "import warnings\n",
    "warnings.filterwarnings(action = 'ignore')"
   ]
  },
  {
   "cell_type": "markdown",
   "id": "4ef3f04b",
   "metadata": {},
   "source": [
    "# QUESTION 1"
   ]
  },
  {
   "cell_type": "markdown",
   "id": "266718c5",
   "metadata": {},
   "source": [
    "Which of the following option is the best way to create this list? A_B = [1,2,3,4,5,6,13, 21, 34], Given A = [1,2,3,4,5,6], B = [13, 21, 34]"
   ]
  },
  {
   "cell_type": "code",
   "execution_count": 5,
   "id": "f7a099c5",
   "metadata": {},
   "outputs": [
    {
     "name": "stdout",
     "output_type": "stream",
     "text": [
      "None of the above\n"
     ]
    }
   ],
   "source": [
    "print('None of the above')"
   ]
  },
  {
   "cell_type": "markdown",
   "id": "3560addc",
   "metadata": {},
   "source": [
    "# QUESTION 2 "
   ]
  },
  {
   "cell_type": "markdown",
   "id": "5017afd3",
   "metadata": {},
   "source": [
    "How do you create an identity matrix in python?"
   ]
  },
  {
   "cell_type": "code",
   "execution_count": 6,
   "id": "3e9dabb9",
   "metadata": {},
   "outputs": [
    {
     "data": {
      "text/plain": [
       "array([[1., 0., 0.],\n",
       "       [0., 1., 0.],\n",
       "       [0., 0., 1.]])"
      ]
     },
     "execution_count": 6,
     "metadata": {},
     "output_type": "execute_result"
    }
   ],
   "source": [
    "np.eye(3)\n"
   ]
  },
  {
   "cell_type": "code",
   "execution_count": 7,
   "id": "523cd0be",
   "metadata": {},
   "outputs": [
    {
     "data": {
      "text/plain": [
       "array([[1., 0., 0.],\n",
       "       [0., 1., 0.],\n",
       "       [0., 0., 1.]])"
      ]
     },
     "execution_count": 7,
     "metadata": {},
     "output_type": "execute_result"
    }
   ],
   "source": [
    "np.identity(3)"
   ]
  },
  {
   "cell_type": "markdown",
   "id": "97624a2e",
   "metadata": {},
   "source": [
    "# ElectricIty Utility Report Dataset"
   ]
  },
  {
   "cell_type": "markdown",
   "id": "5e66e3df",
   "metadata": {},
   "source": [
    "AIM : CLEANING, WRANGLING AND EXPLORING"
   ]
  },
  {
   "cell_type": "code",
   "execution_count": 8,
   "id": "e6068285",
   "metadata": {},
   "outputs": [
    {
     "data": {
      "text/html": [
       "<div>\n",
       "<style scoped>\n",
       "    .dataframe tbody tr th:only-of-type {\n",
       "        vertical-align: middle;\n",
       "    }\n",
       "\n",
       "    .dataframe tbody tr th {\n",
       "        vertical-align: top;\n",
       "    }\n",
       "\n",
       "    .dataframe thead th {\n",
       "        text-align: right;\n",
       "    }\n",
       "</style>\n",
       "<table border=\"1\" class=\"dataframe\">\n",
       "  <thead>\n",
       "    <tr style=\"text-align: right;\">\n",
       "      <th></th>\n",
       "      <th>record_id</th>\n",
       "      <th>utility_id_ferc1</th>\n",
       "      <th>report_year</th>\n",
       "      <th>plant_name_ferc1</th>\n",
       "      <th>fuel_type_code_pudl</th>\n",
       "      <th>fuel_unit</th>\n",
       "      <th>fuel_qty_burned</th>\n",
       "      <th>fuel_mmbtu_per_unit</th>\n",
       "      <th>fuel_cost_per_unit_burned</th>\n",
       "      <th>fuel_cost_per_unit_delivered</th>\n",
       "      <th>fuel_cost_per_mmbtu</th>\n",
       "    </tr>\n",
       "  </thead>\n",
       "  <tbody>\n",
       "    <tr>\n",
       "      <th>0</th>\n",
       "      <td>f1_fuel_1994_12_1_0_7</td>\n",
       "      <td>1</td>\n",
       "      <td>1994</td>\n",
       "      <td>rockport</td>\n",
       "      <td>coal</td>\n",
       "      <td>ton</td>\n",
       "      <td>5377489.0</td>\n",
       "      <td>16.590</td>\n",
       "      <td>18.59</td>\n",
       "      <td>18.53</td>\n",
       "      <td>1.121</td>\n",
       "    </tr>\n",
       "    <tr>\n",
       "      <th>1</th>\n",
       "      <td>f1_fuel_1994_12_1_0_10</td>\n",
       "      <td>1</td>\n",
       "      <td>1994</td>\n",
       "      <td>rockport total plant</td>\n",
       "      <td>coal</td>\n",
       "      <td>ton</td>\n",
       "      <td>10486945.0</td>\n",
       "      <td>16.592</td>\n",
       "      <td>18.58</td>\n",
       "      <td>18.53</td>\n",
       "      <td>1.120</td>\n",
       "    </tr>\n",
       "    <tr>\n",
       "      <th>2</th>\n",
       "      <td>f1_fuel_1994_12_2_0_1</td>\n",
       "      <td>2</td>\n",
       "      <td>1994</td>\n",
       "      <td>gorgas</td>\n",
       "      <td>coal</td>\n",
       "      <td>ton</td>\n",
       "      <td>2978683.0</td>\n",
       "      <td>24.130</td>\n",
       "      <td>39.72</td>\n",
       "      <td>38.12</td>\n",
       "      <td>1.650</td>\n",
       "    </tr>\n",
       "    <tr>\n",
       "      <th>3</th>\n",
       "      <td>f1_fuel_1994_12_2_0_7</td>\n",
       "      <td>2</td>\n",
       "      <td>1994</td>\n",
       "      <td>barry</td>\n",
       "      <td>coal</td>\n",
       "      <td>ton</td>\n",
       "      <td>3739484.0</td>\n",
       "      <td>23.950</td>\n",
       "      <td>47.21</td>\n",
       "      <td>45.99</td>\n",
       "      <td>1.970</td>\n",
       "    </tr>\n",
       "    <tr>\n",
       "      <th>4</th>\n",
       "      <td>f1_fuel_1994_12_2_0_10</td>\n",
       "      <td>2</td>\n",
       "      <td>1994</td>\n",
       "      <td>chickasaw</td>\n",
       "      <td>gas</td>\n",
       "      <td>mcf</td>\n",
       "      <td>40533.0</td>\n",
       "      <td>1.000</td>\n",
       "      <td>2.77</td>\n",
       "      <td>2.77</td>\n",
       "      <td>2.570</td>\n",
       "    </tr>\n",
       "  </tbody>\n",
       "</table>\n",
       "</div>"
      ],
      "text/plain": [
       "                record_id  utility_id_ferc1  report_year  \\\n",
       "0   f1_fuel_1994_12_1_0_7                 1         1994   \n",
       "1  f1_fuel_1994_12_1_0_10                 1         1994   \n",
       "2   f1_fuel_1994_12_2_0_1                 2         1994   \n",
       "3   f1_fuel_1994_12_2_0_7                 2         1994   \n",
       "4  f1_fuel_1994_12_2_0_10                 2         1994   \n",
       "\n",
       "       plant_name_ferc1 fuel_type_code_pudl fuel_unit  fuel_qty_burned  \\\n",
       "0              rockport                coal       ton        5377489.0   \n",
       "1  rockport total plant                coal       ton       10486945.0   \n",
       "2                gorgas                coal       ton        2978683.0   \n",
       "3                 barry                coal       ton        3739484.0   \n",
       "4             chickasaw                 gas       mcf          40533.0   \n",
       "\n",
       "   fuel_mmbtu_per_unit  fuel_cost_per_unit_burned  \\\n",
       "0               16.590                      18.59   \n",
       "1               16.592                      18.58   \n",
       "2               24.130                      39.72   \n",
       "3               23.950                      47.21   \n",
       "4                1.000                       2.77   \n",
       "\n",
       "   fuel_cost_per_unit_delivered  fuel_cost_per_mmbtu  \n",
       "0                         18.53                1.121  \n",
       "1                         18.53                1.120  \n",
       "2                         38.12                1.650  \n",
       "3                         45.99                1.970  \n",
       "4                          2.77                2.570  "
      ]
     },
     "execution_count": 8,
     "metadata": {},
     "output_type": "execute_result"
    }
   ],
   "source": [
    "data = pd.read_csv('C:/Users/suraj/.spyder-py3/fuel_ferc1.txt',\n",
    "                   sep = ',',engine = 'python')\n",
    "data.head()"
   ]
  },
  {
   "cell_type": "code",
   "execution_count": 9,
   "id": "b489bf1f",
   "metadata": {},
   "outputs": [
    {
     "data": {
      "text/plain": [
       "(29523, 11)"
      ]
     },
     "execution_count": 9,
     "metadata": {},
     "output_type": "execute_result"
    }
   ],
   "source": [
    "data.shape"
   ]
  },
  {
   "cell_type": "markdown",
   "id": "b66589c9",
   "metadata": {},
   "source": [
    "# QUESTION 3"
   ]
  },
  {
   "cell_type": "markdown",
   "id": "630b243f",
   "metadata": {},
   "source": [
    "Which of the following fuel type code has the lowest average fuel cost per unit burned?"
   ]
  },
  {
   "cell_type": "code",
   "execution_count": 10,
   "id": "f0f0ee4a",
   "metadata": {},
   "outputs": [
    {
     "data": {
      "text/html": [
       "<div>\n",
       "<style scoped>\n",
       "    .dataframe tbody tr th:only-of-type {\n",
       "        vertical-align: middle;\n",
       "    }\n",
       "\n",
       "    .dataframe tbody tr th {\n",
       "        vertical-align: top;\n",
       "    }\n",
       "\n",
       "    .dataframe thead th {\n",
       "        text-align: right;\n",
       "    }\n",
       "</style>\n",
       "<table border=\"1\" class=\"dataframe\">\n",
       "  <thead>\n",
       "    <tr style=\"text-align: right;\">\n",
       "      <th></th>\n",
       "      <th>fuel_cost_per_unit_burned_mean</th>\n",
       "    </tr>\n",
       "    <tr>\n",
       "      <th>fuel_type_code_pudl</th>\n",
       "      <th></th>\n",
       "    </tr>\n",
       "  </thead>\n",
       "  <tbody>\n",
       "    <tr>\n",
       "      <th>gas</th>\n",
       "      <td>13.659397</td>\n",
       "    </tr>\n",
       "    <tr>\n",
       "      <th>other</th>\n",
       "      <td>18.253856</td>\n",
       "    </tr>\n",
       "    <tr>\n",
       "      <th>waste</th>\n",
       "      <td>19.518122</td>\n",
       "    </tr>\n",
       "    <tr>\n",
       "      <th>coal</th>\n",
       "      <td>67.421830</td>\n",
       "    </tr>\n",
       "    <tr>\n",
       "      <th>oil</th>\n",
       "      <td>168.877086</td>\n",
       "    </tr>\n",
       "    <tr>\n",
       "      <th>nuclear</th>\n",
       "      <td>4955.157002</td>\n",
       "    </tr>\n",
       "  </tbody>\n",
       "</table>\n",
       "</div>"
      ],
      "text/plain": [
       "                     fuel_cost_per_unit_burned_mean\n",
       "fuel_type_code_pudl                                \n",
       "gas                                       13.659397\n",
       "other                                     18.253856\n",
       "waste                                     19.518122\n",
       "coal                                      67.421830\n",
       "oil                                      168.877086\n",
       "nuclear                                 4955.157002"
      ]
     },
     "execution_count": 10,
     "metadata": {},
     "output_type": "execute_result"
    }
   ],
   "source": [
    "Q3 = data.groupby('fuel_type_code_pudl').agg({'fuel_cost_per_unit_burned': ['mean']})\n",
    "Q3.columns = Q3.columns.map('_'.join)\n",
    "Q3.sort_values(by = 'fuel_cost_per_unit_burned_mean')"
   ]
  },
  {
   "cell_type": "markdown",
   "id": "8f337c11",
   "metadata": {},
   "source": [
    "# QUESTION 4"
   ]
  },
  {
   "cell_type": "markdown",
   "id": "36cc1550",
   "metadata": {},
   "source": [
    "What is the standard deviation and 75th percentile of the measure of energy per unit (Fuel_mmbtu_per_unit) in two decimal places?"
   ]
  },
  {
   "cell_type": "code",
   "execution_count": 11,
   "id": "13b7dd52",
   "metadata": {},
   "outputs": [
    {
     "name": "stdout",
     "output_type": "stream",
     "text": [
      "Standard Deviation: 10.60\n",
      "75th percentile: 17.01\n"
     ]
    }
   ],
   "source": [
    "Q4 = data['fuel_mmbtu_per_unit'].describe()\n",
    "print(f'Standard Deviation: {Q4[2]:.2f}\\n75th percentile: {Q4[6]:.2f}')"
   ]
  },
  {
   "cell_type": "markdown",
   "id": "931efdc7",
   "metadata": {},
   "source": [
    "# QUESTION 5"
   ]
  },
  {
   "cell_type": "markdown",
   "id": "2d1e4171",
   "metadata": {},
   "source": [
    "What is the skewness and kurtosis for the fuel quantity burned in two decimal places?"
   ]
  },
  {
   "cell_type": "code",
   "execution_count": 12,
   "id": "14b9e8a1",
   "metadata": {},
   "outputs": [],
   "source": [
    "fuel_qty_skew = data[ 'fuel_qty_burned'].skew()\n",
    "fuel_qty_kurt = data[ 'fuel_qty_burned'].kurt()"
   ]
  },
  {
   "cell_type": "code",
   "execution_count": 13,
   "id": "3738e152",
   "metadata": {},
   "outputs": [
    {
     "name": "stdout",
     "output_type": "stream",
     "text": [
      "skewness: 15.85\n",
      "kurtosis: 651.37\n"
     ]
    }
   ],
   "source": [
    "print(f'skewness: {fuel_qty_skew:.2f}\\nkurtosis: {fuel_qty_kurt:.2f}')"
   ]
  },
  {
   "cell_type": "markdown",
   "id": "d5fc758f",
   "metadata": {},
   "source": [
    "# QUESTION 6"
   ]
  },
  {
   "cell_type": "markdown",
   "id": "3420afe1",
   "metadata": {},
   "source": [
    "Which feature has missing values and what is the total number of missing value and percentage of the missing rows as a factor of the total number of rows in three decimal places?"
   ]
  },
  {
   "cell_type": "code",
   "execution_count": 14,
   "id": "ee0db424",
   "metadata": {},
   "outputs": [
    {
     "data": {
      "text/plain": [
       "record_id                         0\n",
       "utility_id_ferc1                  0\n",
       "report_year                       0\n",
       "plant_name_ferc1                  0\n",
       "fuel_type_code_pudl               0\n",
       "fuel_unit                       180\n",
       "fuel_qty_burned                   0\n",
       "fuel_mmbtu_per_unit               0\n",
       "fuel_cost_per_unit_burned         0\n",
       "fuel_cost_per_unit_delivered      0\n",
       "fuel_cost_per_mmbtu               0\n",
       "dtype: int64"
      ]
     },
     "execution_count": 14,
     "metadata": {},
     "output_type": "execute_result"
    }
   ],
   "source": [
    "data.isnull().sum()"
   ]
  },
  {
   "cell_type": "code",
   "execution_count": 15,
   "id": "494dae33",
   "metadata": {},
   "outputs": [],
   "source": [
    "percentage = (data.fuel_unit.isnull().sum()/len(data))*100"
   ]
  },
  {
   "cell_type": "code",
   "execution_count": 16,
   "id": "76e6deeb",
   "metadata": {},
   "outputs": [
    {
     "name": "stdout",
     "output_type": "stream",
     "text": [
      "Feature: fuel_unit, Total: 180, Percent: 0.610\n"
     ]
    }
   ],
   "source": [
    "print(f'Feature: fuel_unit, Total: 180, Percent: {percentage:.3f}')"
   ]
  },
  {
   "cell_type": "markdown",
   "id": "9fc04d89",
   "metadata": {},
   "source": [
    "# QUESTION 7"
   ]
  },
  {
   "cell_type": "markdown",
   "id": "d4f6f919",
   "metadata": {},
   "source": [
    "The feature with missing values falls under what category? What missing value imputation technique would you use?"
   ]
  },
  {
   "cell_type": "code",
   "execution_count": 17,
   "id": "40983802",
   "metadata": {},
   "outputs": [
    {
     "data": {
      "text/plain": [
       "dtype('O')"
      ]
     },
     "execution_count": 17,
     "metadata": {},
     "output_type": "execute_result"
    }
   ],
   "source": [
    "data.fuel_unit.dtype"
   ]
  },
  {
   "cell_type": "code",
   "execution_count": 18,
   "id": "2822a914",
   "metadata": {},
   "outputs": [
    {
     "name": "stdout",
     "output_type": "stream",
     "text": [
      "Categorical and mode importation\n"
     ]
    }
   ],
   "source": [
    "print('Categorical and mode importation')"
   ]
  },
  {
   "cell_type": "markdown",
   "id": "408e5208",
   "metadata": {},
   "source": [
    "# QUESTION 8"
   ]
  },
  {
   "cell_type": "markdown",
   "id": "d477fb44",
   "metadata": {},
   "source": [
    "Which of the features has the second and third lowest correlation with the Fuel Cost Per Unit Burned?"
   ]
  },
  {
   "cell_type": "code",
   "execution_count": 19,
   "id": "3ad34c12",
   "metadata": {},
   "outputs": [
    {
     "data": {
      "text/plain": [
       "fuel_cost_per_mmbtu             0.000437\n",
       "fuel_mmbtu_per_unit             0.010034\n",
       "fuel_cost_per_unit_delivered    0.011007\n",
       "report_year                     0.013599\n",
       "fuel_qty_burned                 0.018535\n",
       "utility_id_ferc1                0.037863\n",
       "fuel_cost_per_unit_burned       1.000000\n",
       "Name: fuel_cost_per_unit_burned, dtype: float64"
      ]
     },
     "execution_count": 19,
     "metadata": {},
     "output_type": "execute_result"
    }
   ],
   "source": [
    "data.corr()['fuel_cost_per_unit_burned'].abs().sort_values()"
   ]
  },
  {
   "cell_type": "code",
   "execution_count": 20,
   "id": "025f8f74",
   "metadata": {},
   "outputs": [
    {
     "name": "stdout",
     "output_type": "stream",
     "text": [
      "fuel_mmbtu_per_unit and fuel_cost_per_unit_delivered\n"
     ]
    }
   ],
   "source": [
    "print('fuel_mmbtu_per_unit and fuel_cost_per_unit_delivered')\n"
   ]
  },
  {
   "cell_type": "markdown",
   "id": "8d73136c",
   "metadata": {},
   "source": [
    "# QUESTION 9"
   ]
  },
  {
   "cell_type": "markdown",
   "id": "37afde5e",
   "metadata": {},
   "source": [
    "For the fuel type coal, what is the percentage change in the fuel cost per unit burned in 1998 compared to 1994?"
   ]
  },
  {
   "cell_type": "code",
   "execution_count": 21,
   "id": "b3308025",
   "metadata": {},
   "outputs": [],
   "source": [
    "Q9 = data.groupby(['fuel_type_code_pudl','report_year']).agg({'fuel_cost_per_unit_burned':['sum']})\n",
    "Q9.columns = Q9.columns.map('_'.join)\n",
    "Q9.sort_values(by =['fuel_type_code_pudl','report_year'],ascending = True,inplace = True)\n",
    "Q9.reset_index(inplace=True)"
   ]
  },
  {
   "cell_type": "code",
   "execution_count": 23,
   "id": "98da08d6",
   "metadata": {},
   "outputs": [
    {
     "data": {
      "text/html": [
       "<div>\n",
       "<style scoped>\n",
       "    .dataframe tbody tr th:only-of-type {\n",
       "        vertical-align: middle;\n",
       "    }\n",
       "\n",
       "    .dataframe tbody tr th {\n",
       "        vertical-align: top;\n",
       "    }\n",
       "\n",
       "    .dataframe thead th {\n",
       "        text-align: right;\n",
       "    }\n",
       "</style>\n",
       "<table border=\"1\" class=\"dataframe\">\n",
       "  <thead>\n",
       "    <tr style=\"text-align: right;\">\n",
       "      <th></th>\n",
       "      <th>fuel_type_code_pudl</th>\n",
       "      <th>report_year</th>\n",
       "      <th>fuel_cost_per_unit_burned_sum</th>\n",
       "      <th>percentage_change</th>\n",
       "    </tr>\n",
       "  </thead>\n",
       "  <tbody>\n",
       "    <tr>\n",
       "      <th>0</th>\n",
       "      <td>coal</td>\n",
       "      <td>1994</td>\n",
       "      <td>14984.572</td>\n",
       "      <td>0.000000</td>\n",
       "    </tr>\n",
       "    <tr>\n",
       "      <th>1</th>\n",
       "      <td>coal</td>\n",
       "      <td>1995</td>\n",
       "      <td>14571.785</td>\n",
       "      <td>-2.754747</td>\n",
       "    </tr>\n",
       "    <tr>\n",
       "      <th>2</th>\n",
       "      <td>coal</td>\n",
       "      <td>1996</td>\n",
       "      <td>12694.803</td>\n",
       "      <td>-15.280844</td>\n",
       "    </tr>\n",
       "    <tr>\n",
       "      <th>3</th>\n",
       "      <td>coal</td>\n",
       "      <td>1997</td>\n",
       "      <td>43742.178</td>\n",
       "      <td>191.914764</td>\n",
       "    </tr>\n",
       "    <tr>\n",
       "      <th>4</th>\n",
       "      <td>coal</td>\n",
       "      <td>1998</td>\n",
       "      <td>11902.597</td>\n",
       "      <td>-20.567655</td>\n",
       "    </tr>\n",
       "  </tbody>\n",
       "</table>\n",
       "</div>"
      ],
      "text/plain": [
       "  fuel_type_code_pudl  report_year  fuel_cost_per_unit_burned_sum  \\\n",
       "0                coal         1994                      14984.572   \n",
       "1                coal         1995                      14571.785   \n",
       "2                coal         1996                      12694.803   \n",
       "3                coal         1997                      43742.178   \n",
       "4                coal         1998                      11902.597   \n",
       "\n",
       "   percentage_change  \n",
       "0           0.000000  \n",
       "1          -2.754747  \n",
       "2         -15.280844  \n",
       "3         191.914764  \n",
       "4         -20.567655  "
      ]
     },
     "execution_count": 23,
     "metadata": {},
     "output_type": "execute_result"
    }
   ],
   "source": [
    "df = Q9[Q9['fuel_type_code_pudl']== 'coal']\n",
    "df['percentage_change'] = [((df['fuel_cost_per_unit_burned_sum'][i] - df['fuel_cost_per_unit_burned_sum'][0])/df['fuel_cost_per_unit_burned_sum'][0])*100 for i in range(len(df))]\n",
    "df.head()"
   ]
  },
  {
   "cell_type": "code",
   "execution_count": 24,
   "id": "5d037f0a",
   "metadata": {},
   "outputs": [
    {
     "name": "stdout",
     "output_type": "stream",
     "text": [
      "-21.0%\n"
     ]
    }
   ],
   "source": [
    "answer = df.loc[4,'percentage_change'].round(0)\n",
    "print(f'{answer}%')"
   ]
  },
  {
   "cell_type": "markdown",
   "id": "ee723c6d",
   "metadata": {},
   "source": [
    "# QUESTION 10"
   ]
  },
  {
   "cell_type": "markdown",
   "id": "85e4e1b3",
   "metadata": {},
   "source": [
    "Which year has the highest average fuel cost per unit delivered?"
   ]
  },
  {
   "cell_type": "code",
   "execution_count": 36,
   "id": "ff3b21e9",
   "metadata": {},
   "outputs": [
    {
     "data": {
      "text/html": [
       "<div>\n",
       "<style scoped>\n",
       "    .dataframe tbody tr th:only-of-type {\n",
       "        vertical-align: middle;\n",
       "    }\n",
       "\n",
       "    .dataframe tbody tr th {\n",
       "        vertical-align: top;\n",
       "    }\n",
       "\n",
       "    .dataframe thead th {\n",
       "        text-align: right;\n",
       "    }\n",
       "</style>\n",
       "<table border=\"1\" class=\"dataframe\">\n",
       "  <thead>\n",
       "    <tr style=\"text-align: right;\">\n",
       "      <th></th>\n",
       "      <th>fuel_cost_per_unit_delivered_mean</th>\n",
       "    </tr>\n",
       "    <tr>\n",
       "      <th>report_year</th>\n",
       "      <th></th>\n",
       "    </tr>\n",
       "  </thead>\n",
       "  <tbody>\n",
       "    <tr>\n",
       "      <th>1997</th>\n",
       "      <td>11140.197239</td>\n",
       "    </tr>\n",
       "    <tr>\n",
       "      <th>1996</th>\n",
       "      <td>9196.705948</td>\n",
       "    </tr>\n",
       "    <tr>\n",
       "      <th>2000</th>\n",
       "      <td>985.362877</td>\n",
       "    </tr>\n",
       "    <tr>\n",
       "      <th>2009</th>\n",
       "      <td>652.694163</td>\n",
       "    </tr>\n",
       "    <tr>\n",
       "      <th>2018</th>\n",
       "      <td>499.269966</td>\n",
       "    </tr>\n",
       "  </tbody>\n",
       "</table>\n",
       "</div>"
      ],
      "text/plain": [
       "             fuel_cost_per_unit_delivered_mean\n",
       "report_year                                   \n",
       "1997                              11140.197239\n",
       "1996                               9196.705948\n",
       "2000                                985.362877\n",
       "2009                                652.694163\n",
       "2018                                499.269966"
      ]
     },
     "execution_count": 36,
     "metadata": {},
     "output_type": "execute_result"
    }
   ],
   "source": [
    "Q10 = data.groupby('report_year').agg({'fuel_cost_per_unit_delivered': ['mean']})\n",
    "Q10.columns = Q10.columns.map('_'.join)\n",
    "Q10.sort_values(by =['fuel_cost_per_unit_delivered_mean'],ascending = False,inplace = True)\n",
    "Q10.head()"
   ]
  }
 ],
 "metadata": {
  "kernelspec": {
   "display_name": "Python 3",
   "language": "python",
   "name": "python3"
  },
  "language_info": {
   "codemirror_mode": {
    "name": "ipython",
    "version": 3
   },
   "file_extension": ".py",
   "mimetype": "text/x-python",
   "name": "python",
   "nbconvert_exporter": "python",
   "pygments_lexer": "ipython3",
   "version": "3.8.8"
  }
 },
 "nbformat": 4,
 "nbformat_minor": 5
}
