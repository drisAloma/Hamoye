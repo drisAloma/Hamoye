{
  "nbformat": 4,
  "nbformat_minor": 0,
  "metadata": {
    "colab": {
      "name": "Data_curation_project.ipynb",
      "provenance": [],
      "collapsed_sections": [],
      "authorship_tag": "ABX9TyNFBtNdRjStKyLwslviB6CC",
      "include_colab_link": true
    },
    "kernelspec": {
      "name": "python3",
      "display_name": "Python 3"
    }
  },
  "cells": [
    {
      "cell_type": "markdown",
      "metadata": {
        "id": "view-in-github",
        "colab_type": "text"
      },
      "source": [
        "<a href=\"https://colab.research.google.com/github/drisAloma/drisAloma/blob/main/Data_curation_project.ipynb\" target=\"_parent\"><img src=\"https://colab.research.google.com/assets/colab-badge.svg\" alt=\"Open In Colab\"/></a>"
      ]
    },
    {
      "cell_type": "code",
      "metadata": {
        "id": "oxbHBZ5o_U_D"
      },
      "source": [
        "import pandas as pd\n",
        "import numpy as np\n",
        "import matplotlib.pyplot as plt\n",
        "import seaborn as sns\n",
        "import altair as alt\n",
        "from bs4 import BeautifulSoup\n",
        "import requests"
      ],
      "execution_count": null,
      "outputs": []
    },
    {
      "cell_type": "code",
      "metadata": {
        "id": "tjDkVObsg1dc"
      },
      "source": [
        "##Category ;\n",
        "# All Books\n",
        "best_sellers_AB = 'https://www.amazon.com/best-sellers-books-Amazon/zgbs/books/ref=zg_m_bs_unv_b_1_25_1'\n",
        "\n",
        "#Computer & Technology\n",
        "best_sellers_CT = 'https://www.amazon.com/Best-Sellers-Books-Computers-Technology/zgbs/books/5/ref=zg_m_bs_nav_b_1_b'\n",
        "\n",
        "#Science, Fiction & Fantasy\n",
        "best_sellers_SFF = 'https://www.amazon.com/Best-Sellers-Books-Science-Fiction-Fantasy/zgbs/books/25/ref=zg_m_bs_nav_b_1_b'\n",
        "\n",
        "#Religion & Spiritual\n",
        "best_sellers_RS = 'https://www.amazon.com/Best-Sellers-Books-Religion-Spirituality/zgbs/books/22/ref=zg_m_bs_nav_b_1_b'\n",
        "\n",
        "#Romance\n",
        "best_sellers_RM = 'https://www.amazon.com/Best-Sellers-Books-Romance/zgbs/books/23/ref=zg_m_bs_nav_b_1_b'\n",
        "\n",
        "#History\n",
        "best_sellers_HT = 'https://www.amazon.com/Best-Sellers-Books-History/zgbs/books/9/ref=zg_m_bs_nav_b_1_b'\n",
        "\n",
        "#Engineering & Transportation\n",
        "best_sellers_ET = 'https://www.amazon.com/Best-Sellers-Books-Engineering-Transportation/zgbs/books/173507/ref=zg_m_bs_nav_b_1_b'"
      ],
      "execution_count": null,
      "outputs": []
    },
    {
      "cell_type": "code",
      "metadata": {
        "id": "VSSAilDgg1g4"
      },
      "source": [
        "no_pages = 3\n",
        "\n",
        "def get_data(pageNo):  \n",
        "    headers = {\"User-Agent\":\"Mozilla/5.0 (Macintosh; Intel Mac OS X 11_1; rv:77.0) Gecko/20100101 Firefox/77.0\", \"Accept-Encoding\":\"gzip, deflate\", \"Accept\":\"text/html,application/xhtml+xml,application/xml;q=0.9,*/*;q=0.8\", \"DNT\":\"1\",\"Connection\":\"close\", \"Upgrade-Insecure-Requests\":\"1\"}\n",
        "\n",
        "    r = requests.get(best_sellers_ET+str(pageNo)+'?ie=UTF8&pg='+str(pageNo), headers=headers)#, proxies=proxies)\n",
        "    content = r.content\n",
        "    soup = BeautifulSoup(content)\n",
        "    #print(soup)\n",
        "\n",
        "    alls = []\n",
        "    for d in soup.findAll('div', attrs={'class':'a-section a-spacing-none aok-relative'}):\n",
        "        #print(d)\n",
        "        name = d.find('span', attrs={'class':'zg-text-center-align'})\n",
        "        n = name.find_all('img', alt=True)\n",
        "        #print(n[0]['alt'])\n",
        "        author = d.find('a', attrs={'class':'a-size-small a-link-child'})\n",
        "        rating = d.find('span', attrs={'class':'a-icon-alt'})\n",
        "        users_rated = d.find('a', attrs={'class':'a-size-small a-link-normal'})\n",
        "        price = d.find('span', attrs={'class':'p13n-sc-price'})\n",
        "\n",
        "        all1=[]\n",
        "\n",
        "        if name is not None:\n",
        "            #print(n[0]['alt'])\n",
        "            all1.append(n[0]['alt'])\n",
        "        else:\n",
        "            all1.append(\"unknown-product\")\n",
        "\n",
        "        if author is not None:\n",
        "            #print(author.text)\n",
        "            all1.append(author.text)\n",
        "        elif author is None:\n",
        "            author = d.find('span', attrs={'class':'a-size-small a-color-base'})\n",
        "            if author is not None:\n",
        "                all1.append(author.text)\n",
        "            else:    \n",
        "                all1.append('0')\n",
        "\n",
        "        if rating is not None:\n",
        "            #print(rating.text)\n",
        "            all1.append(rating.text)\n",
        "        else:\n",
        "            all1.append('-1')\n",
        "\n",
        "        if users_rated is not None:\n",
        "            #print(price.text)\n",
        "            all1.append(users_rated.text)\n",
        "        else:\n",
        "            all1.append('0')     \n",
        "\n",
        "        if price is not None:\n",
        "            #print(price.text)\n",
        "            all1.append(price.text)\n",
        "        else:\n",
        "            all1.append('0')\n",
        "        alls.append(all1)    \n",
        "    return alls"
      ],
      "execution_count": null,
      "outputs": []
    },
    {
      "cell_type": "code",
      "metadata": {
        "id": "VyFf4uC8g1kn"
      },
      "source": [
        "results = []\n",
        "for i in range(1, no_pages+1):\n",
        "    results.append(get_data(i))\n",
        "flatten = lambda l: [item for sublist in l for item in sublist]\n",
        "df = pd.DataFrame(flatten(results),columns=['Book_Name','Author','Ratings','Reviews', 'Price'])\n",
        "df.to_csv('engineering_transportation.csv', index=False, encoding='utf-8')"
      ],
      "execution_count": null,
      "outputs": []
    },
    {
      "cell_type": "code",
      "metadata": {
        "id": "Yfey9M1ukcKe"
      },
      "source": [
        "#All books"
      ],
      "execution_count": null,
      "outputs": []
    },
    {
      "cell_type": "code",
      "metadata": {
        "id": "OEDNr_DLjnm5"
      },
      "source": [
        "best_sellers_AB = pd.read_csv(\"best_sellers_books.csv\")"
      ],
      "execution_count": null,
      "outputs": []
    },
    {
      "cell_type": "code",
      "metadata": {
        "id": "5K_lERp1j-IB"
      },
      "source": [
        "best_sellers_AB['Rank'] = np.arange(1,101,1)"
      ],
      "execution_count": null,
      "outputs": []
    },
    {
      "cell_type": "code",
      "metadata": {
        "colab": {
          "base_uri": "https://localhost:8080/",
          "height": 480
        },
        "id": "AzvOB0StkDl2",
        "outputId": "7d87855c-935b-46dd-8481-edb36afac170"
      },
      "source": [
        "best_sellers_AB.head()"
      ],
      "execution_count": null,
      "outputs": [
        {
          "output_type": "execute_result",
          "data": {
            "text/html": [
              "<div>\n",
              "<style scoped>\n",
              "    .dataframe tbody tr th:only-of-type {\n",
              "        vertical-align: middle;\n",
              "    }\n",
              "\n",
              "    .dataframe tbody tr th {\n",
              "        vertical-align: top;\n",
              "    }\n",
              "\n",
              "    .dataframe thead th {\n",
              "        text-align: right;\n",
              "    }\n",
              "</style>\n",
              "<table border=\"1\" class=\"dataframe\">\n",
              "  <thead>\n",
              "    <tr style=\"text-align: right;\">\n",
              "      <th></th>\n",
              "      <th>Book_Name</th>\n",
              "      <th>Author</th>\n",
              "      <th>Ratings</th>\n",
              "      <th>Reviews</th>\n",
              "      <th>Price</th>\n",
              "      <th>Rank</th>\n",
              "    </tr>\n",
              "  </thead>\n",
              "  <tbody>\n",
              "    <tr>\n",
              "      <th>0</th>\n",
              "      <td>Immune: A Journey into the Mysterious System T...</td>\n",
              "      <td>Philipp Dettmer</td>\n",
              "      <td>4.6 out of 5 stars</td>\n",
              "      <td>12</td>\n",
              "      <td>$29.99</td>\n",
              "      <td>1</td>\n",
              "    </tr>\n",
              "    <tr>\n",
              "      <th>1</th>\n",
              "      <td>Big Shot Diary of a Wimpy Kid Book 16</td>\n",
              "      <td>Jeff Kinney</td>\n",
              "      <td>4.8 out of 5 stars</td>\n",
              "      <td>492</td>\n",
              "      <td>$9.00</td>\n",
              "      <td>2</td>\n",
              "    </tr>\n",
              "    <tr>\n",
              "      <th>2</th>\n",
              "      <td>The Stranger in the Lifeboat: A Novel</td>\n",
              "      <td>Mitch Albom</td>\n",
              "      <td>4.5 out of 5 stars</td>\n",
              "      <td>8</td>\n",
              "      <td>$15.07</td>\n",
              "      <td>3</td>\n",
              "    </tr>\n",
              "    <tr>\n",
              "      <th>3</th>\n",
              "      <td>How to Catch a Turkey</td>\n",
              "      <td>Adam Wallace</td>\n",
              "      <td>4.8 out of 5 stars</td>\n",
              "      <td>2,067</td>\n",
              "      <td>$5.49</td>\n",
              "      <td>4</td>\n",
              "    </tr>\n",
              "    <tr>\n",
              "      <th>4</th>\n",
              "      <td>Dune (Dune Chronicles, Book 1)</td>\n",
              "      <td>Frank Herbert</td>\n",
              "      <td>4.7 out of 5 stars</td>\n",
              "      <td>37,404</td>\n",
              "      <td>$12.01</td>\n",
              "      <td>5</td>\n",
              "    </tr>\n",
              "  </tbody>\n",
              "</table>\n",
              "</div>"
            ],
            "text/plain": [
              "                                           Book_Name  ... Rank\n",
              "0  Immune: A Journey into the Mysterious System T...  ...    1\n",
              "1              Big Shot Diary of a Wimpy Kid Book 16  ...    2\n",
              "2              The Stranger in the Lifeboat: A Novel  ...    3\n",
              "3                              How to Catch a Turkey  ...    4\n",
              "4                     Dune (Dune Chronicles, Book 1)  ...    5\n",
              "\n",
              "[5 rows x 6 columns]"
            ]
          },
          "metadata": {},
          "execution_count": 10
        }
      ]
    },
    {
      "cell_type": "code",
      "metadata": {
        "id": "cWWLXIBQnzZq"
      },
      "source": [
        "#Science, Fiction & Fantasy"
      ],
      "execution_count": null,
      "outputs": []
    },
    {
      "cell_type": "code",
      "metadata": {
        "colab": {
          "base_uri": "https://localhost:8080/",
          "height": 377
        },
        "id": "_mSGKBdOmXMj",
        "outputId": "0eba72fa-a9ff-4bc0-9549-0c9f1b33d6eb"
      },
      "source": [
        "best_sellers_SFF = pd.read_csv(\"science_fiction_fantasy.csv\")\n",
        "best_sellers_SFF.head()"
      ],
      "execution_count": null,
      "outputs": [
        {
          "output_type": "execute_result",
          "data": {
            "text/html": [
              "<div>\n",
              "<style scoped>\n",
              "    .dataframe tbody tr th:only-of-type {\n",
              "        vertical-align: middle;\n",
              "    }\n",
              "\n",
              "    .dataframe tbody tr th {\n",
              "        vertical-align: top;\n",
              "    }\n",
              "\n",
              "    .dataframe thead th {\n",
              "        text-align: right;\n",
              "    }\n",
              "</style>\n",
              "<table border=\"1\" class=\"dataframe\">\n",
              "  <thead>\n",
              "    <tr style=\"text-align: right;\">\n",
              "      <th></th>\n",
              "      <th>Book_Name</th>\n",
              "      <th>Author</th>\n",
              "      <th>Ratings</th>\n",
              "      <th>Reviews</th>\n",
              "      <th>Price</th>\n",
              "    </tr>\n",
              "  </thead>\n",
              "  <tbody>\n",
              "    <tr>\n",
              "      <th>0</th>\n",
              "      <td>Dune</td>\n",
              "      <td>Frank Herbert</td>\n",
              "      <td>4.7 out of 5 stars</td>\n",
              "      <td>37,404</td>\n",
              "      <td>0</td>\n",
              "    </tr>\n",
              "    <tr>\n",
              "      <th>1</th>\n",
              "      <td>Reaper (Cradle Book 10)</td>\n",
              "      <td>Will Wight</td>\n",
              "      <td>5.0 out of 5 stars</td>\n",
              "      <td>91</td>\n",
              "      <td>$6.99</td>\n",
              "    </tr>\n",
              "    <tr>\n",
              "      <th>2</th>\n",
              "      <td>Reaper: Cradle, Book 10</td>\n",
              "      <td>Will Wight</td>\n",
              "      <td>5.0 out of 5 stars</td>\n",
              "      <td>91</td>\n",
              "      <td>0</td>\n",
              "    </tr>\n",
              "    <tr>\n",
              "      <th>3</th>\n",
              "      <td>Dune (Dune Chronicles, Book 1)</td>\n",
              "      <td>Frank Herbert</td>\n",
              "      <td>4.7 out of 5 stars</td>\n",
              "      <td>37,404</td>\n",
              "      <td>$12.01</td>\n",
              "    </tr>\n",
              "    <tr>\n",
              "      <th>4</th>\n",
              "      <td>E-Day: E-Day, Book 1</td>\n",
              "      <td>Nicholas Sansbury Smith</td>\n",
              "      <td>4.5 out of 5 stars</td>\n",
              "      <td>419</td>\n",
              "      <td>0</td>\n",
              "    </tr>\n",
              "  </tbody>\n",
              "</table>\n",
              "</div>"
            ],
            "text/plain": [
              "                        Book_Name                   Author  ... Reviews   Price\n",
              "0                            Dune            Frank Herbert  ...  37,404       0\n",
              "1         Reaper (Cradle Book 10)               Will Wight  ...      91   $6.99\n",
              "2         Reaper: Cradle, Book 10               Will Wight  ...      91       0\n",
              "3  Dune (Dune Chronicles, Book 1)            Frank Herbert  ...  37,404  $12.01\n",
              "4            E-Day: E-Day, Book 1  Nicholas Sansbury Smith  ...     419       0\n",
              "\n",
              "[5 rows x 5 columns]"
            ]
          },
          "metadata": {},
          "execution_count": 16
        }
      ]
    },
    {
      "cell_type": "code",
      "metadata": {
        "id": "8PWUw7YMn9Q4"
      },
      "source": [
        "#Computer & Technology"
      ],
      "execution_count": null,
      "outputs": []
    },
    {
      "cell_type": "code",
      "metadata": {
        "colab": {
          "base_uri": "https://localhost:8080/",
          "height": 548
        },
        "id": "uza8ZwoWmwSg",
        "outputId": "78a0f988-5bd0-4418-8ecd-a4ade63d67b0"
      },
      "source": [
        "best_sellers_CT = pd.read_csv(\"computer_technology.csv\")\n",
        "best_sellers_CT.head()"
      ],
      "execution_count": null,
      "outputs": [
        {
          "output_type": "execute_result",
          "data": {
            "text/html": [
              "<div>\n",
              "<style scoped>\n",
              "    .dataframe tbody tr th:only-of-type {\n",
              "        vertical-align: middle;\n",
              "    }\n",
              "\n",
              "    .dataframe tbody tr th {\n",
              "        vertical-align: top;\n",
              "    }\n",
              "\n",
              "    .dataframe thead th {\n",
              "        text-align: right;\n",
              "    }\n",
              "</style>\n",
              "<table border=\"1\" class=\"dataframe\">\n",
              "  <thead>\n",
              "    <tr style=\"text-align: right;\">\n",
              "      <th></th>\n",
              "      <th>Book_Name</th>\n",
              "      <th>Author</th>\n",
              "      <th>Ratings</th>\n",
              "      <th>Reviews</th>\n",
              "      <th>Price</th>\n",
              "    </tr>\n",
              "  </thead>\n",
              "  <tbody>\n",
              "    <tr>\n",
              "      <th>0</th>\n",
              "      <td>The Age of AI: And Our Human Future</td>\n",
              "      <td>Henry A Kissinger</td>\n",
              "      <td>-1</td>\n",
              "      <td>0</td>\n",
              "      <td>$23.99</td>\n",
              "    </tr>\n",
              "    <tr>\n",
              "      <th>1</th>\n",
              "      <td>The Age of AI: And Our Human Future</td>\n",
              "      <td>Henry A. Kissinger</td>\n",
              "      <td>-1</td>\n",
              "      <td>0</td>\n",
              "      <td>0</td>\n",
              "    </tr>\n",
              "    <tr>\n",
              "      <th>2</th>\n",
              "      <td>Start with Why: How Great Leaders Inspire Ever...</td>\n",
              "      <td>Simon Sinek</td>\n",
              "      <td>4.6 out of 5 stars</td>\n",
              "      <td>18,939</td>\n",
              "      <td>0</td>\n",
              "    </tr>\n",
              "    <tr>\n",
              "      <th>3</th>\n",
              "      <td>First Little Readers Parent Pack: Guided Readi...</td>\n",
              "      <td>Liza Charlesworth</td>\n",
              "      <td>4.8 out of 5 stars</td>\n",
              "      <td>7,728</td>\n",
              "      <td>$7.44</td>\n",
              "    </tr>\n",
              "    <tr>\n",
              "      <th>4</th>\n",
              "      <td>The Age of AI: And Our Human Future</td>\n",
              "      <td>Henry A Kissinger</td>\n",
              "      <td>-1</td>\n",
              "      <td>0</td>\n",
              "      <td>$14.99</td>\n",
              "    </tr>\n",
              "  </tbody>\n",
              "</table>\n",
              "</div>"
            ],
            "text/plain": [
              "                                           Book_Name  ...   Price\n",
              "0                The Age of AI: And Our Human Future  ...  $23.99\n",
              "1                The Age of AI: And Our Human Future  ...       0\n",
              "2  Start with Why: How Great Leaders Inspire Ever...  ...       0\n",
              "3  First Little Readers Parent Pack: Guided Readi...  ...   $7.44\n",
              "4                The Age of AI: And Our Human Future  ...  $14.99\n",
              "\n",
              "[5 rows x 5 columns]"
            ]
          },
          "metadata": {},
          "execution_count": 13
        }
      ]
    },
    {
      "cell_type": "code",
      "metadata": {
        "id": "mQhxOOMloB2X"
      },
      "source": [
        "#Religion & Spiritual"
      ],
      "execution_count": null,
      "outputs": []
    },
    {
      "cell_type": "code",
      "metadata": {
        "colab": {
          "base_uri": "https://localhost:8080/",
          "height": 480
        },
        "id": "Jjl8k617mwWa",
        "outputId": "ae64d9b3-0597-4bba-eebd-35d0a94bd5c8"
      },
      "source": [
        "best_sellers_RS = pd.read_csv(\"religion_spiritual.csv\")\n",
        "best_sellers_RS.head()"
      ],
      "execution_count": null,
      "outputs": [
        {
          "output_type": "execute_result",
          "data": {
            "text/html": [
              "<div>\n",
              "<style scoped>\n",
              "    .dataframe tbody tr th:only-of-type {\n",
              "        vertical-align: middle;\n",
              "    }\n",
              "\n",
              "    .dataframe tbody tr th {\n",
              "        vertical-align: top;\n",
              "    }\n",
              "\n",
              "    .dataframe thead th {\n",
              "        text-align: right;\n",
              "    }\n",
              "</style>\n",
              "<table border=\"1\" class=\"dataframe\">\n",
              "  <thead>\n",
              "    <tr style=\"text-align: right;\">\n",
              "      <th></th>\n",
              "      <th>Book_Name</th>\n",
              "      <th>Author</th>\n",
              "      <th>Ratings</th>\n",
              "      <th>Reviews</th>\n",
              "      <th>Price</th>\n",
              "    </tr>\n",
              "  </thead>\n",
              "  <tbody>\n",
              "    <tr>\n",
              "      <th>0</th>\n",
              "      <td>The Stranger in the Lifeboat: A Novel</td>\n",
              "      <td>Mitch Albom</td>\n",
              "      <td>4.5 out of 5 stars</td>\n",
              "      <td>8</td>\n",
              "      <td>$15.07</td>\n",
              "    </tr>\n",
              "    <tr>\n",
              "      <th>1</th>\n",
              "      <td>The Last Rose of Shanghai: A Novel</td>\n",
              "      <td>Weina Dai Randel</td>\n",
              "      <td>4.2 out of 5 stars</td>\n",
              "      <td>5</td>\n",
              "      <td>$4.99</td>\n",
              "    </tr>\n",
              "    <tr>\n",
              "      <th>2</th>\n",
              "      <td>The Four Agreements: A Practical Guide to Pers...</td>\n",
              "      <td>Don Miguel Ruiz</td>\n",
              "      <td>4.7 out of 5 stars</td>\n",
              "      <td>67,217</td>\n",
              "      <td>$5.77</td>\n",
              "    </tr>\n",
              "    <tr>\n",
              "      <th>3</th>\n",
              "      <td>Chasing Fireflies: A Novel of Discovery</td>\n",
              "      <td>Charles Martin</td>\n",
              "      <td>4.7 out of 5 stars</td>\n",
              "      <td>3,668</td>\n",
              "      <td>$10.99</td>\n",
              "    </tr>\n",
              "    <tr>\n",
              "      <th>4</th>\n",
              "      <td>I'll Be There (But I'll Be Wearing Sweatpants)...</td>\n",
              "      <td>Amy Weatherly</td>\n",
              "      <td>-1</td>\n",
              "      <td>0</td>\n",
              "      <td>$16.99</td>\n",
              "    </tr>\n",
              "  </tbody>\n",
              "</table>\n",
              "</div>"
            ],
            "text/plain": [
              "                                           Book_Name  ...   Price\n",
              "0              The Stranger in the Lifeboat: A Novel  ...  $15.07\n",
              "1                 The Last Rose of Shanghai: A Novel  ...   $4.99\n",
              "2  The Four Agreements: A Practical Guide to Pers...  ...   $5.77\n",
              "3            Chasing Fireflies: A Novel of Discovery  ...  $10.99\n",
              "4  I'll Be There (But I'll Be Wearing Sweatpants)...  ...  $16.99\n",
              "\n",
              "[5 rows x 5 columns]"
            ]
          },
          "metadata": {},
          "execution_count": 20
        }
      ]
    },
    {
      "cell_type": "code",
      "metadata": {
        "id": "Po2fYEzTw2d-"
      },
      "source": [
        "#Engineering & Transportation"
      ],
      "execution_count": null,
      "outputs": []
    },
    {
      "cell_type": "code",
      "metadata": {
        "colab": {
          "base_uri": "https://localhost:8080/",
          "height": 480
        },
        "id": "bgwx4g7Zw3DI",
        "outputId": "36a8d622-7542-4b86-853b-f2466a1988eb"
      },
      "source": [
        "best_sellers_ET = pd.read_csv(\"engineering_transportation.csv\")\n",
        "best_sellers_ET.head()"
      ],
      "execution_count": null,
      "outputs": [
        {
          "output_type": "execute_result",
          "data": {
            "text/html": [
              "<div>\n",
              "<style scoped>\n",
              "    .dataframe tbody tr th:only-of-type {\n",
              "        vertical-align: middle;\n",
              "    }\n",
              "\n",
              "    .dataframe tbody tr th {\n",
              "        vertical-align: top;\n",
              "    }\n",
              "\n",
              "    .dataframe thead th {\n",
              "        text-align: right;\n",
              "    }\n",
              "</style>\n",
              "<table border=\"1\" class=\"dataframe\">\n",
              "  <thead>\n",
              "    <tr style=\"text-align: right;\">\n",
              "      <th></th>\n",
              "      <th>Book_Name</th>\n",
              "      <th>Author</th>\n",
              "      <th>Ratings</th>\n",
              "      <th>Reviews</th>\n",
              "      <th>Price</th>\n",
              "    </tr>\n",
              "  </thead>\n",
              "  <tbody>\n",
              "    <tr>\n",
              "      <th>0</th>\n",
              "      <td>The Age of AI: And Our Human Future</td>\n",
              "      <td>Henry A Kissinger</td>\n",
              "      <td>-1</td>\n",
              "      <td>0</td>\n",
              "      <td>$23.99</td>\n",
              "    </tr>\n",
              "    <tr>\n",
              "      <th>1</th>\n",
              "      <td>The Age of AI: And Our Human Future</td>\n",
              "      <td>Henry A. Kissinger</td>\n",
              "      <td>-1</td>\n",
              "      <td>0</td>\n",
              "      <td>0</td>\n",
              "    </tr>\n",
              "    <tr>\n",
              "      <th>2</th>\n",
              "      <td>The Book of Unusual Knowledge</td>\n",
              "      <td>Publications International Ltd.</td>\n",
              "      <td>4.7 out of 5 stars</td>\n",
              "      <td>9,227</td>\n",
              "      <td>$9.93</td>\n",
              "    </tr>\n",
              "    <tr>\n",
              "      <th>3</th>\n",
              "      <td>The Age of AI: And Our Human Future</td>\n",
              "      <td>Henry A Kissinger</td>\n",
              "      <td>-1</td>\n",
              "      <td>0</td>\n",
              "      <td>$14.99</td>\n",
              "    </tr>\n",
              "    <tr>\n",
              "      <th>4</th>\n",
              "      <td>Lots of Knock-Knock Jokes for Kids</td>\n",
              "      <td>Whee Winn</td>\n",
              "      <td>4.6 out of 5 stars</td>\n",
              "      <td>7,702</td>\n",
              "      <td>$4.99</td>\n",
              "    </tr>\n",
              "  </tbody>\n",
              "</table>\n",
              "</div>"
            ],
            "text/plain": [
              "                             Book_Name  ...   Price\n",
              "0  The Age of AI: And Our Human Future  ...  $23.99\n",
              "1  The Age of AI: And Our Human Future  ...       0\n",
              "2        The Book of Unusual Knowledge  ...   $9.93\n",
              "3  The Age of AI: And Our Human Future  ...  $14.99\n",
              "4   Lots of Knock-Knock Jokes for Kids  ...   $4.99\n",
              "\n",
              "[5 rows x 5 columns]"
            ]
          },
          "metadata": {},
          "execution_count": 29
        }
      ]
    },
    {
      "cell_type": "code",
      "metadata": {
        "id": "gvDWWOpLxIlF"
      },
      "source": [
        "#Romance"
      ],
      "execution_count": null,
      "outputs": []
    },
    {
      "cell_type": "code",
      "metadata": {
        "colab": {
          "base_uri": "https://localhost:8080/",
          "height": 360
        },
        "id": "-hICaAZxxIoJ",
        "outputId": "667cd019-8b75-4048-fbeb-1f806c5c4db5"
      },
      "source": [
        "best_sellers_RM = pd.read_csv(\"romance.csv\")\n",
        "best_sellers_RM.head()"
      ],
      "execution_count": null,
      "outputs": [
        {
          "output_type": "execute_result",
          "data": {
            "text/html": [
              "<div>\n",
              "<style scoped>\n",
              "    .dataframe tbody tr th:only-of-type {\n",
              "        vertical-align: middle;\n",
              "    }\n",
              "\n",
              "    .dataframe tbody tr th {\n",
              "        vertical-align: top;\n",
              "    }\n",
              "\n",
              "    .dataframe thead th {\n",
              "        text-align: right;\n",
              "    }\n",
              "</style>\n",
              "<table border=\"1\" class=\"dataframe\">\n",
              "  <thead>\n",
              "    <tr style=\"text-align: right;\">\n",
              "      <th></th>\n",
              "      <th>Book_Name</th>\n",
              "      <th>Author</th>\n",
              "      <th>Ratings</th>\n",
              "      <th>Reviews</th>\n",
              "      <th>Price</th>\n",
              "    </tr>\n",
              "  </thead>\n",
              "  <tbody>\n",
              "    <tr>\n",
              "      <th>0</th>\n",
              "      <td>A Not So Meet Cute</td>\n",
              "      <td>Meghan Quinn</td>\n",
              "      <td>4.8 out of 5 stars</td>\n",
              "      <td>63</td>\n",
              "      <td>$4.99</td>\n",
              "    </tr>\n",
              "    <tr>\n",
              "      <th>1</th>\n",
              "      <td>Star Cursed (Zodiac Wolves Book 2)</td>\n",
              "      <td>Elizabeth Briggs</td>\n",
              "      <td>4.7 out of 5 stars</td>\n",
              "      <td>54</td>\n",
              "      <td>$4.99</td>\n",
              "    </tr>\n",
              "    <tr>\n",
              "      <th>2</th>\n",
              "      <td>The Truth</td>\n",
              "      <td>Lauren Landish</td>\n",
              "      <td>4.7 out of 5 stars</td>\n",
              "      <td>73</td>\n",
              "      <td>$3.99</td>\n",
              "    </tr>\n",
              "    <tr>\n",
              "      <th>3</th>\n",
              "      <td>The Hunted One</td>\n",
              "      <td>Brittney Sahin</td>\n",
              "      <td>4.7 out of 5 stars</td>\n",
              "      <td>902</td>\n",
              "      <td>$3.99</td>\n",
              "    </tr>\n",
              "    <tr>\n",
              "      <th>4</th>\n",
              "      <td>A Day Like This: A Novel</td>\n",
              "      <td>Kelley McNeil</td>\n",
              "      <td>4.5 out of 5 stars</td>\n",
              "      <td>6,603</td>\n",
              "      <td>$4.99</td>\n",
              "    </tr>\n",
              "  </tbody>\n",
              "</table>\n",
              "</div>"
            ],
            "text/plain": [
              "                            Book_Name            Author  ... Reviews  Price\n",
              "0                  A Not So Meet Cute      Meghan Quinn  ...      63  $4.99\n",
              "1  Star Cursed (Zodiac Wolves Book 2)  Elizabeth Briggs  ...      54  $4.99\n",
              "2                           The Truth    Lauren Landish  ...      73  $3.99\n",
              "3                      The Hunted One    Brittney Sahin  ...     902  $3.99\n",
              "4            A Day Like This: A Novel     Kelley McNeil  ...   6,603  $4.99\n",
              "\n",
              "[5 rows x 5 columns]"
            ]
          },
          "metadata": {},
          "execution_count": 30
        }
      ]
    },
    {
      "cell_type": "code",
      "metadata": {
        "id": "c_g9B2t2xf2V"
      },
      "source": [
        "#History"
      ],
      "execution_count": null,
      "outputs": []
    },
    {
      "cell_type": "code",
      "metadata": {
        "colab": {
          "base_uri": "https://localhost:8080/",
          "height": 600
        },
        "id": "OfO--PPRxf6Z",
        "outputId": "1d0a666e-82cb-456f-adaa-1e25b05df62c"
      },
      "source": [
        "best_sellers_HT = pd.read_csv(\"history.csv\")\n",
        "best_sellers_HT.head()"
      ],
      "execution_count": null,
      "outputs": [
        {
          "output_type": "execute_result",
          "data": {
            "text/html": [
              "<div>\n",
              "<style scoped>\n",
              "    .dataframe tbody tr th:only-of-type {\n",
              "        vertical-align: middle;\n",
              "    }\n",
              "\n",
              "    .dataframe tbody tr th {\n",
              "        vertical-align: top;\n",
              "    }\n",
              "\n",
              "    .dataframe thead th {\n",
              "        text-align: right;\n",
              "    }\n",
              "</style>\n",
              "<table border=\"1\" class=\"dataframe\">\n",
              "  <thead>\n",
              "    <tr style=\"text-align: right;\">\n",
              "      <th></th>\n",
              "      <th>Book_Name</th>\n",
              "      <th>Author</th>\n",
              "      <th>Ratings</th>\n",
              "      <th>Reviews</th>\n",
              "      <th>Price</th>\n",
              "    </tr>\n",
              "  </thead>\n",
              "  <tbody>\n",
              "    <tr>\n",
              "      <th>0</th>\n",
              "      <td>The President and the Freedom Fighter: Abraham...</td>\n",
              "      <td>Brian Kilmeade</td>\n",
              "      <td>5.0 out of 5 stars</td>\n",
              "      <td>2</td>\n",
              "      <td>$18.18</td>\n",
              "    </tr>\n",
              "    <tr>\n",
              "      <th>1</th>\n",
              "      <td>The Dawn of Everything: A New History of Humanity</td>\n",
              "      <td>David Graeber</td>\n",
              "      <td>5.0 out of 5 stars</td>\n",
              "      <td>7</td>\n",
              "      <td>$21.39</td>\n",
              "    </tr>\n",
              "    <tr>\n",
              "      <th>2</th>\n",
              "      <td>Sapiens: A Brief History of Humankind</td>\n",
              "      <td>Yuval Harari</td>\n",
              "      <td>4.6 out of 5 stars</td>\n",
              "      <td>49,281</td>\n",
              "      <td>$7.22</td>\n",
              "    </tr>\n",
              "    <tr>\n",
              "      <th>3</th>\n",
              "      <td>Woke Up This Morning: The Definitive Oral Hist...</td>\n",
              "      <td>Michael Imperioli</td>\n",
              "      <td>3.4 out of 5 stars</td>\n",
              "      <td>4</td>\n",
              "      <td>$22.99</td>\n",
              "    </tr>\n",
              "    <tr>\n",
              "      <th>4</th>\n",
              "      <td>Not All Diamonds and Rosé: The Inside Story of...</td>\n",
              "      <td>Dave Quinn</td>\n",
              "      <td>4.1 out of 5 stars</td>\n",
              "      <td>293</td>\n",
              "      <td>$18.79</td>\n",
              "    </tr>\n",
              "  </tbody>\n",
              "</table>\n",
              "</div>"
            ],
            "text/plain": [
              "                                           Book_Name  ...   Price\n",
              "0  The President and the Freedom Fighter: Abraham...  ...  $18.18\n",
              "1  The Dawn of Everything: A New History of Humanity  ...  $21.39\n",
              "2              Sapiens: A Brief History of Humankind  ...   $7.22\n",
              "3  Woke Up This Morning: The Definitive Oral Hist...  ...  $22.99\n",
              "4  Not All Diamonds and Rosé: The Inside Story of...  ...  $18.79\n",
              "\n",
              "[5 rows x 5 columns]"
            ]
          },
          "metadata": {},
          "execution_count": 31
        }
      ]
    },
    {
      "cell_type": "code",
      "metadata": {
        "id": "iz49CkLqmwbo"
      },
      "source": [
        "# Comparing best sellers from each category with\n",
        "# best sellers in All books available to sale"
      ],
      "execution_count": null,
      "outputs": []
    },
    {
      "cell_type": "code",
      "metadata": {
        "colab": {
          "base_uri": "https://localhost:8080/"
        },
        "id": "F-xP0LyQmwdq",
        "outputId": "dcac0964-4632-447d-e139-344a4709aeb6"
      },
      "source": [
        "most_sales_in_SFF = set(best_sellers_AB['Book_Name']).intersection(best_sellers_SFF['Book_Name'])\n",
        "len(most_sales_in_SFF),most_sales_in_SFF"
      ],
      "execution_count": 41,
      "outputs": [
        {
          "output_type": "execute_result",
          "data": {
            "text/plain": [
              "(4,\n",
              " {'Dune (Dune Chronicles, Book 1)',\n",
              "  \"Fizban's Treasury of Dragons (Dungeon & Dragons Book) (Dungeons & Dragons)\",\n",
              "  'Go Tell the Bees That I Am Gone: A Novel (Outlander)',\n",
              "  'The Midnight Library: A Novel'})"
            ]
          },
          "metadata": {},
          "execution_count": 41
        }
      ]
    },
    {
      "cell_type": "code",
      "metadata": {
        "colab": {
          "base_uri": "https://localhost:8080/"
        },
        "id": "23O-km0Cpjjn",
        "outputId": "2f5d2f94-4c04-4d36-ae1a-28f2378329c5"
      },
      "source": [
        "most_sales_in_CT = list(np.intersect1d(best_sellers_AB['Book_Name'],best_sellers_CT['Book_Name']))\n",
        "most_sales_in_CT"
      ],
      "execution_count": null,
      "outputs": [
        {
          "output_type": "execute_result",
          "data": {
            "text/plain": [
              "[]"
            ]
          },
          "metadata": {},
          "execution_count": 33
        }
      ]
    },
    {
      "cell_type": "code",
      "metadata": {
        "colab": {
          "base_uri": "https://localhost:8080/"
        },
        "id": "C9FdFKE-qBZd",
        "outputId": "3ee600db-7c18-4a4e-f663-475c5ffc40bd"
      },
      "source": [
        "most_sales_in_RS = list(np.intersect1d(best_sellers_AB['Book_Name'],best_sellers_RS['Book_Name']))\n",
        "len(most_sales_in_RS),most_sales_in_RS"
      ],
      "execution_count": 39,
      "outputs": [
        {
          "output_type": "execute_result",
          "data": {
            "text/plain": [
              "(8,\n",
              " ['Bear Says Thanks (The Bear Books)',\n",
              "  \"I'll Be There (But I'll Be Wearing Sweatpants): Finding Unfiltered, Real-Life Friendships in This Crazy, Chaotic World\",\n",
              "  'Operation Joktan (A Nir Tavor Mossad Thriller)',\n",
              "  'The 5 Love Languages: The Secret to Love that Lasts',\n",
              "  'The Babylon Bee Guide to Wokeness',\n",
              "  'The Four Agreements: A Practical Guide to Personal Freedom (A Toltec Wisdom Book)',\n",
              "  'The Stranger in the Lifeboat: A Novel',\n",
              "  'Wholehearted Faith'])"
            ]
          },
          "metadata": {},
          "execution_count": 39
        }
      ]
    },
    {
      "cell_type": "code",
      "metadata": {
        "colab": {
          "base_uri": "https://localhost:8080/"
        },
        "id": "MTE1osWqxzB8",
        "outputId": "00a80523-7867-4689-e4c3-4e2cda7d38fa"
      },
      "source": [
        "most_sales_in_ET = list(np.intersect1d(best_sellers_AB['Book_Name'],best_sellers_ET['Book_Name']))\n",
        "most_sales_in_ET"
      ],
      "execution_count": null,
      "outputs": [
        {
          "output_type": "execute_result",
          "data": {
            "text/plain": [
              "[]"
            ]
          },
          "metadata": {},
          "execution_count": 35
        }
      ]
    },
    {
      "cell_type": "code",
      "metadata": {
        "id": "InVgrc4jxzGy",
        "colab": {
          "base_uri": "https://localhost:8080/"
        },
        "outputId": "ab786c08-2be9-4c22-bd5f-7a4604f38e43"
      },
      "source": [
        "most_sales_in_HT = list(np.intersect1d(best_sellers_AB['Book_Name'],best_sellers_HT['Book_Name']))\n",
        "len(most_sales_in_HT),most_sales_in_HT"
      ],
      "execution_count": 40,
      "outputs": [
        {
          "output_type": "execute_result",
          "data": {
            "text/plain": [
              "(8,\n",
              " ['In Trump Time: My Journal of America’s Plague Year',\n",
              "  'Not All Diamonds and Rosé: The Inside Story of The Real Housewives from the People Who Lived It',\n",
              "  'Rigged: How the Media, Big Tech, and the Democrats Seized Our Elections',\n",
              "  'Sapiens: A Brief History of Humankind',\n",
              "  'The Dawn of Everything: A New History of Humanity',\n",
              "  \"The President and the Freedom Fighter: Abraham Lincoln, Frederick Douglass, and Their Battle to Save America's Soul\",\n",
              "  'To Rescue the Republic: Ulysses S. Grant, the Fragile Union, and the Crisis of 1876',\n",
              "  'Woke Up This Morning: The Definitive Oral History of The Sopranos'])"
            ]
          },
          "metadata": {},
          "execution_count": 40
        }
      ]
    },
    {
      "cell_type": "markdown",
      "metadata": {
        "id": "-cxf7YFargBM"
      },
      "source": [
        "The Analysis based on few categories\n",
        "shows that most books purchased falls under\n",
        "HISTORY and RELIGION & SPIRITUAL categories."
      ]
    },
    {
      "cell_type": "code",
      "metadata": {
        "id": "VNfJtoEMxzNj"
      },
      "source": [
        ""
      ],
      "execution_count": null,
      "outputs": []
    }
  ]
}