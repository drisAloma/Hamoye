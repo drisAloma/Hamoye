{
  "nbformat": 4,
  "nbformat_minor": 0,
  "metadata": {
    "colab": {
      "name": "Data_curation_project.ipynb",
      "provenance": [],
      "collapsed_sections": [],
      "authorship_tag": "ABX9TyO7V8lILQfQy0LxdYcK7vtk",
      "include_colab_link": true
    },
    "kernelspec": {
      "name": "python3",
      "display_name": "Python 3"
    }
  },
  "cells": [
    {
      "cell_type": "markdown",
      "metadata": {
        "id": "view-in-github",
        "colab_type": "text"
      },
      "source": [
        "<a href=\"https://colab.research.google.com/github/drisAloma/drisAloma/blob/main/Data_curation_project.ipynb\" target=\"_parent\"><img src=\"https://colab.research.google.com/assets/colab-badge.svg\" alt=\"Open In Colab\"/></a>"
      ]
    },
    {
      "cell_type": "code",
      "metadata": {
        "id": "oxbHBZ5o_U_D"
      },
      "source": [
        "import pandas as pd\n",
        "import numpy as np\n",
        "import matplotlib.pyplot as plt\n",
        "import seaborn as sns\n",
        "import altair as alt\n",
        "from bs4 import BeautifulSoup\n",
        "import requests"
      ],
      "execution_count": null,
      "outputs": []
    },
    {
      "cell_type": "code",
      "metadata": {
        "id": "tjDkVObsg1dc"
      },
      "source": [
        "##Category ;\n",
        "# All Books\n",
        "best_sellers_AB = 'https://www.amazon.com/best-sellers-books-Amazon/zgbs/books/ref=zg_m_bs_unv_b_1_25_1'\n",
        "\n",
        "#Computer & Technology\n",
        "best_sellers_CT = 'https://www.amazon.com/Best-Sellers-Books-Computers-Technology/zgbs/books/5/ref=zg_m_bs_nav_b_1_b'\n",
        "\n",
        "#Science, Fiction & Fantasy\n",
        "best_sellers_SFF = 'https://www.amazon.com/Best-Sellers-Books-Science-Fiction-Fantasy/zgbs/books/25/ref=zg_m_bs_nav_b_1_b'\n",
        "\n",
        "#Religion & Spiritual\n",
        "best_sellers_RS = 'https://www.amazon.com/Best-Sellers-Books-Religion-Spirituality/zgbs/books/22/ref=zg_m_bs_nav_b_1_b'\n",
        "\n",
        "#Romance\n",
        "best_sellers_RM = 'https://www.amazon.com/Best-Sellers-Books-Romance/zgbs/books/23/ref=zg_m_bs_nav_b_1_b'\n",
        "\n",
        "#History\n",
        "best_sellers_HT = 'https://www.amazon.com/Best-Sellers-Books-History/zgbs/books/9/ref=zg_m_bs_nav_b_1_b'\n",
        "\n",
        "#Engineering & Transportation\n",
        "best_sellers_ET = 'https://www.amazon.com/Best-Sellers-Books-Engineering-Transportation/zgbs/books/173507/ref=zg_m_bs_nav_b_1_b'"
      ],
      "execution_count": null,
      "outputs": []
    },
    {
      "cell_type": "code",
      "metadata": {
        "id": "VSSAilDgg1g4"
      },
      "source": [
        "no_pages = 3\n",
        "\n",
        "def get_data(pageNo):  \n",
        "    headers = {\"User-Agent\":\"Mozilla/5.0 (Macintosh; Intel Mac OS X 11_1; rv:77.0) Gecko/20100101 Firefox/77.0\", \"Accept-Encoding\":\"gzip, deflate\", \"Accept\":\"text/html,application/xhtml+xml,application/xml;q=0.9,*/*;q=0.8\", \"DNT\":\"1\",\"Connection\":\"close\", \"Upgrade-Insecure-Requests\":\"1\"}\n",
        "\n",
        "    r = requests.get(best_sellers_HT+str(pageNo)+'?ie=UTF8&pg='+str(pageNo), headers=headers)#, proxies=proxies)\n",
        "    content = r.content\n",
        "    soup = BeautifulSoup(content)\n",
        "    #print(soup)\n",
        "\n",
        "    alls = []\n",
        "    for d in soup.findAll('div', attrs={'class':'a-section a-spacing-none aok-relative'}):\n",
        "        #print(d)\n",
        "        name = d.find('span', attrs={'class':'zg-text-center-align'})\n",
        "        n = name.find_all('img', alt=True)\n",
        "        #print(n[0]['alt'])\n",
        "        author = d.find('a', attrs={'class':'a-size-small a-link-child'})\n",
        "        rating = d.find('span', attrs={'class':'a-icon-alt'})\n",
        "        users_rated = d.find('a', attrs={'class':'a-size-small a-link-normal'})\n",
        "        price = d.find('span', attrs={'class':'p13n-sc-price'})\n",
        "\n",
        "        all1=[]\n",
        "\n",
        "        if name is not None:\n",
        "            #print(n[0]['alt'])\n",
        "            all1.append(n[0]['alt'])\n",
        "        else:\n",
        "            all1.append(\"unknown-product\")\n",
        "\n",
        "        if author is not None:\n",
        "            #print(author.text)\n",
        "            all1.append(author.text)\n",
        "        elif author is None:\n",
        "            author = d.find('span', attrs={'class':'a-size-small a-color-base'})\n",
        "            if author is not None:\n",
        "                all1.append(author.text)\n",
        "            else:    \n",
        "                all1.append('0')\n",
        "\n",
        "        if rating is not None:\n",
        "            #print(rating.text)\n",
        "            all1.append(rating.text)\n",
        "        else:\n",
        "            all1.append('-1')\n",
        "\n",
        "        if users_rated is not None:\n",
        "            #print(price.text)\n",
        "            all1.append(users_rated.text)\n",
        "        else:\n",
        "            all1.append('0')     \n",
        "\n",
        "        if price is not None:\n",
        "            #print(price.text)\n",
        "            all1.append(price.text)\n",
        "        else:\n",
        "            all1.append('0')\n",
        "        alls.append(all1)    \n",
        "    return alls"
      ],
      "execution_count": null,
      "outputs": []
    },
    {
      "cell_type": "code",
      "metadata": {
        "id": "VyFf4uC8g1kn"
      },
      "source": [
        "results = []\n",
        "for i in range(1, no_pages+1):\n",
        "    results.append(get_data(i))\n",
        "flatten = lambda l: [item for sublist in l for item in sublist]\n",
        "df = pd.DataFrame(flatten(results),columns=['Book_Name','Author','Ratings','Reviews', 'Price'])\n",
        "df.to_csv('history.csv', index=False, encoding='utf-8')"
      ],
      "execution_count": null,
      "outputs": []
    },
    {
      "cell_type": "code",
      "metadata": {
        "id": "Yfey9M1ukcKe"
      },
      "source": [
        "#All books"
      ],
      "execution_count": null,
      "outputs": []
    },
    {
      "cell_type": "code",
      "metadata": {
        "id": "OEDNr_DLjnm5"
      },
      "source": [
        "best_sellers_AB = pd.read_csv(\"best_sellers_books.csv\")"
      ],
      "execution_count": null,
      "outputs": []
    },
    {
      "cell_type": "code",
      "metadata": {
        "id": "5K_lERp1j-IB"
      },
      "source": [
        "best_sellers_AB['Rank'] = np.arange(1,101,1)"
      ],
      "execution_count": null,
      "outputs": []
    },
    {
      "cell_type": "code",
      "metadata": {
        "colab": {
          "base_uri": "https://localhost:8080/",
          "height": 480
        },
        "id": "AzvOB0StkDl2",
        "outputId": "8b68f474-c0bc-4046-84b2-3d63cfb1ed2a"
      },
      "source": [
        "best_sellers_AB.head()"
      ],
      "execution_count": null,
      "outputs": [
        {
          "output_type": "execute_result",
          "data": {
            "text/html": [
              "<div>\n",
              "<style scoped>\n",
              "    .dataframe tbody tr th:only-of-type {\n",
              "        vertical-align: middle;\n",
              "    }\n",
              "\n",
              "    .dataframe tbody tr th {\n",
              "        vertical-align: top;\n",
              "    }\n",
              "\n",
              "    .dataframe thead th {\n",
              "        text-align: right;\n",
              "    }\n",
              "</style>\n",
              "<table border=\"1\" class=\"dataframe\">\n",
              "  <thead>\n",
              "    <tr style=\"text-align: right;\">\n",
              "      <th></th>\n",
              "      <th>Book_Name</th>\n",
              "      <th>Author</th>\n",
              "      <th>Ratings</th>\n",
              "      <th>Reviews</th>\n",
              "      <th>Price</th>\n",
              "      <th>Rank</th>\n",
              "    </tr>\n",
              "  </thead>\n",
              "  <tbody>\n",
              "    <tr>\n",
              "      <th>0</th>\n",
              "      <td>The Stranger in the Lifeboat: A Novel</td>\n",
              "      <td>Mitch Albom</td>\n",
              "      <td>4.6 out of 5 stars</td>\n",
              "      <td>3</td>\n",
              "      <td>$15.07</td>\n",
              "      <td>1</td>\n",
              "    </tr>\n",
              "    <tr>\n",
              "      <th>1</th>\n",
              "      <td>Big Shot Diary of a Wimpy Kid Book 16</td>\n",
              "      <td>Jeff Kinney</td>\n",
              "      <td>4.8 out of 5 stars</td>\n",
              "      <td>466</td>\n",
              "      <td>$9.00</td>\n",
              "      <td>2</td>\n",
              "    </tr>\n",
              "    <tr>\n",
              "      <th>2</th>\n",
              "      <td>Dune (Dune Chronicles, Book 1)</td>\n",
              "      <td>Frank Herbert</td>\n",
              "      <td>4.7 out of 5 stars</td>\n",
              "      <td>37,328</td>\n",
              "      <td>$12.01</td>\n",
              "      <td>3</td>\n",
              "    </tr>\n",
              "    <tr>\n",
              "      <th>3</th>\n",
              "      <td>How to Catch a Turkey</td>\n",
              "      <td>Adam Wallace</td>\n",
              "      <td>4.8 out of 5 stars</td>\n",
              "      <td>2,066</td>\n",
              "      <td>$7.70</td>\n",
              "      <td>4</td>\n",
              "    </tr>\n",
              "    <tr>\n",
              "      <th>4</th>\n",
              "      <td>Immune: A Journey into the Mysterious System T...</td>\n",
              "      <td>Philipp Dettmer</td>\n",
              "      <td>4.5 out of 5 stars</td>\n",
              "      <td>8</td>\n",
              "      <td>$29.99</td>\n",
              "      <td>5</td>\n",
              "    </tr>\n",
              "  </tbody>\n",
              "</table>\n",
              "</div>"
            ],
            "text/plain": [
              "                                           Book_Name  ... Rank\n",
              "0              The Stranger in the Lifeboat: A Novel  ...    1\n",
              "1              Big Shot Diary of a Wimpy Kid Book 16  ...    2\n",
              "2                     Dune (Dune Chronicles, Book 1)  ...    3\n",
              "3                              How to Catch a Turkey  ...    4\n",
              "4  Immune: A Journey into the Mysterious System T...  ...    5\n",
              "\n",
              "[5 rows x 6 columns]"
            ]
          },
          "metadata": {},
          "execution_count": 77
        }
      ]
    },
    {
      "cell_type": "code",
      "metadata": {
        "id": "cWWLXIBQnzZq"
      },
      "source": [
        "#Science, Fiction & Fantasy"
      ],
      "execution_count": null,
      "outputs": []
    },
    {
      "cell_type": "code",
      "metadata": {
        "colab": {
          "base_uri": "https://localhost:8080/",
          "height": 377
        },
        "id": "_mSGKBdOmXMj",
        "outputId": "37b34237-52f0-492b-ea97-f68e12ab8d04"
      },
      "source": [
        "best_sellers_SFF = pd.read_csv(\"science_fiction_fantasy.csv\")\n",
        "best_sellers_SFF.head()"
      ],
      "execution_count": null,
      "outputs": [
        {
          "output_type": "execute_result",
          "data": {
            "text/html": [
              "<div>\n",
              "<style scoped>\n",
              "    .dataframe tbody tr th:only-of-type {\n",
              "        vertical-align: middle;\n",
              "    }\n",
              "\n",
              "    .dataframe tbody tr th {\n",
              "        vertical-align: top;\n",
              "    }\n",
              "\n",
              "    .dataframe thead th {\n",
              "        text-align: right;\n",
              "    }\n",
              "</style>\n",
              "<table border=\"1\" class=\"dataframe\">\n",
              "  <thead>\n",
              "    <tr style=\"text-align: right;\">\n",
              "      <th></th>\n",
              "      <th>Book_Name</th>\n",
              "      <th>Author</th>\n",
              "      <th>Ratings</th>\n",
              "      <th>Reviews</th>\n",
              "      <th>Price</th>\n",
              "    </tr>\n",
              "  </thead>\n",
              "  <tbody>\n",
              "    <tr>\n",
              "      <th>0</th>\n",
              "      <td>Dune</td>\n",
              "      <td>Frank Herbert</td>\n",
              "      <td>4.7 out of 5 stars</td>\n",
              "      <td>37,328</td>\n",
              "      <td>0</td>\n",
              "    </tr>\n",
              "    <tr>\n",
              "      <th>1</th>\n",
              "      <td>Reaper (Cradle Book 10)</td>\n",
              "      <td>Will Wight</td>\n",
              "      <td>5.0 out of 5 stars</td>\n",
              "      <td>20</td>\n",
              "      <td>$6.99</td>\n",
              "    </tr>\n",
              "    <tr>\n",
              "      <th>2</th>\n",
              "      <td>Reaper: Cradle, Book 10</td>\n",
              "      <td>Will Wight</td>\n",
              "      <td>5.0 out of 5 stars</td>\n",
              "      <td>20</td>\n",
              "      <td>0</td>\n",
              "    </tr>\n",
              "    <tr>\n",
              "      <th>3</th>\n",
              "      <td>Dune (Dune Chronicles, Book 1)</td>\n",
              "      <td>Frank Herbert</td>\n",
              "      <td>4.7 out of 5 stars</td>\n",
              "      <td>37,328</td>\n",
              "      <td>$12.01</td>\n",
              "    </tr>\n",
              "    <tr>\n",
              "      <th>4</th>\n",
              "      <td>E-Day: E-Day, Book 1</td>\n",
              "      <td>Nicholas Sansbury Smith</td>\n",
              "      <td>4.5 out of 5 stars</td>\n",
              "      <td>419</td>\n",
              "      <td>0</td>\n",
              "    </tr>\n",
              "  </tbody>\n",
              "</table>\n",
              "</div>"
            ],
            "text/plain": [
              "                        Book_Name                   Author  ... Reviews   Price\n",
              "0                            Dune            Frank Herbert  ...  37,328       0\n",
              "1         Reaper (Cradle Book 10)               Will Wight  ...      20   $6.99\n",
              "2         Reaper: Cradle, Book 10               Will Wight  ...      20       0\n",
              "3  Dune (Dune Chronicles, Book 1)            Frank Herbert  ...  37,328  $12.01\n",
              "4            E-Day: E-Day, Book 1  Nicholas Sansbury Smith  ...     419       0\n",
              "\n",
              "[5 rows x 5 columns]"
            ]
          },
          "metadata": {},
          "execution_count": 48
        }
      ]
    },
    {
      "cell_type": "code",
      "metadata": {
        "id": "8PWUw7YMn9Q4"
      },
      "source": [
        "#Computer & Technology"
      ],
      "execution_count": null,
      "outputs": []
    },
    {
      "cell_type": "code",
      "metadata": {
        "colab": {
          "base_uri": "https://localhost:8080/",
          "height": 548
        },
        "id": "uza8ZwoWmwSg",
        "outputId": "67b9973f-50c2-48a1-d131-a10c423bb805"
      },
      "source": [
        "best_sellers_CT = pd.read_csv(\"computer_technology.csv\")\n",
        "best_sellers_CT.head()"
      ],
      "execution_count": null,
      "outputs": [
        {
          "output_type": "execute_result",
          "data": {
            "text/html": [
              "<div>\n",
              "<style scoped>\n",
              "    .dataframe tbody tr th:only-of-type {\n",
              "        vertical-align: middle;\n",
              "    }\n",
              "\n",
              "    .dataframe tbody tr th {\n",
              "        vertical-align: top;\n",
              "    }\n",
              "\n",
              "    .dataframe thead th {\n",
              "        text-align: right;\n",
              "    }\n",
              "</style>\n",
              "<table border=\"1\" class=\"dataframe\">\n",
              "  <thead>\n",
              "    <tr style=\"text-align: right;\">\n",
              "      <th></th>\n",
              "      <th>Book_Name</th>\n",
              "      <th>Author</th>\n",
              "      <th>Ratings</th>\n",
              "      <th>Reviews</th>\n",
              "      <th>Price</th>\n",
              "    </tr>\n",
              "  </thead>\n",
              "  <tbody>\n",
              "    <tr>\n",
              "      <th>0</th>\n",
              "      <td>The Age of AI: And Our Human Future</td>\n",
              "      <td>Henry A Kissinger</td>\n",
              "      <td>-1</td>\n",
              "      <td>0</td>\n",
              "      <td>$23.99</td>\n",
              "    </tr>\n",
              "    <tr>\n",
              "      <th>1</th>\n",
              "      <td>The Age of AI: And Our Human Future</td>\n",
              "      <td>Henry A. Kissinger</td>\n",
              "      <td>-1</td>\n",
              "      <td>0</td>\n",
              "      <td>0</td>\n",
              "    </tr>\n",
              "    <tr>\n",
              "      <th>2</th>\n",
              "      <td>Start with Why: How Great Leaders Inspire Ever...</td>\n",
              "      <td>Simon Sinek</td>\n",
              "      <td>4.6 out of 5 stars</td>\n",
              "      <td>18,935</td>\n",
              "      <td>0</td>\n",
              "    </tr>\n",
              "    <tr>\n",
              "      <th>3</th>\n",
              "      <td>The Age of AI: And Our Human Future</td>\n",
              "      <td>Henry A Kissinger</td>\n",
              "      <td>-1</td>\n",
              "      <td>0</td>\n",
              "      <td>$14.99</td>\n",
              "    </tr>\n",
              "    <tr>\n",
              "      <th>4</th>\n",
              "      <td>Start with Why: How Great Leaders Inspire Ever...</td>\n",
              "      <td>Simon Sinek</td>\n",
              "      <td>4.6 out of 5 stars</td>\n",
              "      <td>18,935</td>\n",
              "      <td>$8.79</td>\n",
              "    </tr>\n",
              "  </tbody>\n",
              "</table>\n",
              "</div>"
            ],
            "text/plain": [
              "                                           Book_Name  ...   Price\n",
              "0                The Age of AI: And Our Human Future  ...  $23.99\n",
              "1                The Age of AI: And Our Human Future  ...       0\n",
              "2  Start with Why: How Great Leaders Inspire Ever...  ...       0\n",
              "3                The Age of AI: And Our Human Future  ...  $14.99\n",
              "4  Start with Why: How Great Leaders Inspire Ever...  ...   $8.79\n",
              "\n",
              "[5 rows x 5 columns]"
            ]
          },
          "metadata": {},
          "execution_count": 51
        }
      ]
    },
    {
      "cell_type": "code",
      "metadata": {
        "id": "mQhxOOMloB2X"
      },
      "source": [
        "#Religion & Spiritual"
      ],
      "execution_count": null,
      "outputs": []
    },
    {
      "cell_type": "code",
      "metadata": {
        "colab": {
          "base_uri": "https://localhost:8080/",
          "height": 514
        },
        "id": "Jjl8k617mwWa",
        "outputId": "de2bbd8d-eaf6-4311-9a9e-71a2b01666f8"
      },
      "source": [
        "best_sellers_RS = pd.read_csv(\"religion_spiritual.csv\")\n",
        "best_sellers_RS.head()"
      ],
      "execution_count": null,
      "outputs": [
        {
          "output_type": "execute_result",
          "data": {
            "text/html": [
              "<div>\n",
              "<style scoped>\n",
              "    .dataframe tbody tr th:only-of-type {\n",
              "        vertical-align: middle;\n",
              "    }\n",
              "\n",
              "    .dataframe tbody tr th {\n",
              "        vertical-align: top;\n",
              "    }\n",
              "\n",
              "    .dataframe thead th {\n",
              "        text-align: right;\n",
              "    }\n",
              "</style>\n",
              "<table border=\"1\" class=\"dataframe\">\n",
              "  <thead>\n",
              "    <tr style=\"text-align: right;\">\n",
              "      <th></th>\n",
              "      <th>Book_Name</th>\n",
              "      <th>Author</th>\n",
              "      <th>Ratings</th>\n",
              "      <th>Reviews</th>\n",
              "      <th>Price</th>\n",
              "    </tr>\n",
              "  </thead>\n",
              "  <tbody>\n",
              "    <tr>\n",
              "      <th>0</th>\n",
              "      <td>The Stranger in the Lifeboat: A Novel</td>\n",
              "      <td>Mitch Albom</td>\n",
              "      <td>4.6 out of 5 stars</td>\n",
              "      <td>3</td>\n",
              "      <td>$15.07</td>\n",
              "    </tr>\n",
              "    <tr>\n",
              "      <th>1</th>\n",
              "      <td>The Last Rose of Shanghai: A Novel</td>\n",
              "      <td>Weina Dai Randel</td>\n",
              "      <td>4.5 out of 5 stars</td>\n",
              "      <td>4</td>\n",
              "      <td>$4.99</td>\n",
              "    </tr>\n",
              "    <tr>\n",
              "      <th>2</th>\n",
              "      <td>The Four Agreements: A Practical Guide to Pers...</td>\n",
              "      <td>Don Miguel Ruiz</td>\n",
              "      <td>4.7 out of 5 stars</td>\n",
              "      <td>67,193</td>\n",
              "      <td>$5.77</td>\n",
              "    </tr>\n",
              "    <tr>\n",
              "      <th>3</th>\n",
              "      <td>Operation Joktan (A Nir Tavor Mossad Thriller)</td>\n",
              "      <td>Amir Tsarfati</td>\n",
              "      <td>-1</td>\n",
              "      <td>0</td>\n",
              "      <td>$14.39</td>\n",
              "    </tr>\n",
              "    <tr>\n",
              "      <th>4</th>\n",
              "      <td>The Stranger in the Lifeboat: A Novel</td>\n",
              "      <td>Mitch Albom</td>\n",
              "      <td>4.6 out of 5 stars</td>\n",
              "      <td>3</td>\n",
              "      <td>0</td>\n",
              "    </tr>\n",
              "  </tbody>\n",
              "</table>\n",
              "</div>"
            ],
            "text/plain": [
              "                                           Book_Name  ...   Price\n",
              "0              The Stranger in the Lifeboat: A Novel  ...  $15.07\n",
              "1                 The Last Rose of Shanghai: A Novel  ...   $4.99\n",
              "2  The Four Agreements: A Practical Guide to Pers...  ...   $5.77\n",
              "3     Operation Joktan (A Nir Tavor Mossad Thriller)  ...  $14.39\n",
              "4              The Stranger in the Lifeboat: A Novel  ...       0\n",
              "\n",
              "[5 rows x 5 columns]"
            ]
          },
          "metadata": {},
          "execution_count": 70
        }
      ]
    },
    {
      "cell_type": "code",
      "metadata": {
        "id": "Po2fYEzTw2d-"
      },
      "source": [
        "#Engineering & Transportation"
      ],
      "execution_count": null,
      "outputs": []
    },
    {
      "cell_type": "code",
      "metadata": {
        "colab": {
          "base_uri": "https://localhost:8080/",
          "height": 480
        },
        "id": "bgwx4g7Zw3DI",
        "outputId": "c89b71b7-fc03-40c8-bc8a-16d6a9200a2a"
      },
      "source": [
        "best_sellers_ET = pd.read_csv(\"engineering_transportation.csv\")\n",
        "best_sellers_ET.head()"
      ],
      "execution_count": null,
      "outputs": [
        {
          "output_type": "execute_result",
          "data": {
            "text/html": [
              "<div>\n",
              "<style scoped>\n",
              "    .dataframe tbody tr th:only-of-type {\n",
              "        vertical-align: middle;\n",
              "    }\n",
              "\n",
              "    .dataframe tbody tr th {\n",
              "        vertical-align: top;\n",
              "    }\n",
              "\n",
              "    .dataframe thead th {\n",
              "        text-align: right;\n",
              "    }\n",
              "</style>\n",
              "<table border=\"1\" class=\"dataframe\">\n",
              "  <thead>\n",
              "    <tr style=\"text-align: right;\">\n",
              "      <th></th>\n",
              "      <th>Book_Name</th>\n",
              "      <th>Author</th>\n",
              "      <th>Ratings</th>\n",
              "      <th>Reviews</th>\n",
              "      <th>Price</th>\n",
              "    </tr>\n",
              "  </thead>\n",
              "  <tbody>\n",
              "    <tr>\n",
              "      <th>0</th>\n",
              "      <td>The Age of AI: And Our Human Future</td>\n",
              "      <td>Henry A Kissinger</td>\n",
              "      <td>-1</td>\n",
              "      <td>0</td>\n",
              "      <td>$23.99</td>\n",
              "    </tr>\n",
              "    <tr>\n",
              "      <th>1</th>\n",
              "      <td>The Age of AI: And Our Human Future</td>\n",
              "      <td>Henry A. Kissinger</td>\n",
              "      <td>-1</td>\n",
              "      <td>0</td>\n",
              "      <td>0</td>\n",
              "    </tr>\n",
              "    <tr>\n",
              "      <th>2</th>\n",
              "      <td>The Book of Unusual Knowledge</td>\n",
              "      <td>Publications International Ltd.</td>\n",
              "      <td>4.7 out of 5 stars</td>\n",
              "      <td>9,224</td>\n",
              "      <td>$9.93</td>\n",
              "    </tr>\n",
              "    <tr>\n",
              "      <th>3</th>\n",
              "      <td>The Age of AI: And Our Human Future</td>\n",
              "      <td>Henry A Kissinger</td>\n",
              "      <td>-1</td>\n",
              "      <td>0</td>\n",
              "      <td>$14.99</td>\n",
              "    </tr>\n",
              "    <tr>\n",
              "      <th>4</th>\n",
              "      <td>Lots of Knock-Knock Jokes for Kids</td>\n",
              "      <td>Whee Winn</td>\n",
              "      <td>4.6 out of 5 stars</td>\n",
              "      <td>7,702</td>\n",
              "      <td>$4.99</td>\n",
              "    </tr>\n",
              "  </tbody>\n",
              "</table>\n",
              "</div>"
            ],
            "text/plain": [
              "                             Book_Name  ...   Price\n",
              "0  The Age of AI: And Our Human Future  ...  $23.99\n",
              "1  The Age of AI: And Our Human Future  ...       0\n",
              "2        The Book of Unusual Knowledge  ...   $9.93\n",
              "3  The Age of AI: And Our Human Future  ...  $14.99\n",
              "4   Lots of Knock-Knock Jokes for Kids  ...   $4.99\n",
              "\n",
              "[5 rows x 5 columns]"
            ]
          },
          "metadata": {},
          "execution_count": 68
        }
      ]
    },
    {
      "cell_type": "code",
      "metadata": {
        "id": "gvDWWOpLxIlF"
      },
      "source": [
        "#Romance"
      ],
      "execution_count": null,
      "outputs": []
    },
    {
      "cell_type": "code",
      "metadata": {
        "colab": {
          "base_uri": "https://localhost:8080/",
          "height": 360
        },
        "id": "-hICaAZxxIoJ",
        "outputId": "62b0ff06-9866-4350-fb39-d406d2ea7496"
      },
      "source": [
        "best_sellers_RM = pd.read_csv(\"romance.csv\")\n",
        "best_sellers_RM.head()"
      ],
      "execution_count": null,
      "outputs": [
        {
          "output_type": "execute_result",
          "data": {
            "text/html": [
              "<div>\n",
              "<style scoped>\n",
              "    .dataframe tbody tr th:only-of-type {\n",
              "        vertical-align: middle;\n",
              "    }\n",
              "\n",
              "    .dataframe tbody tr th {\n",
              "        vertical-align: top;\n",
              "    }\n",
              "\n",
              "    .dataframe thead th {\n",
              "        text-align: right;\n",
              "    }\n",
              "</style>\n",
              "<table border=\"1\" class=\"dataframe\">\n",
              "  <thead>\n",
              "    <tr style=\"text-align: right;\">\n",
              "      <th></th>\n",
              "      <th>Book_Name</th>\n",
              "      <th>Author</th>\n",
              "      <th>Ratings</th>\n",
              "      <th>Reviews</th>\n",
              "      <th>Price</th>\n",
              "    </tr>\n",
              "  </thead>\n",
              "  <tbody>\n",
              "    <tr>\n",
              "      <th>0</th>\n",
              "      <td>Star Cursed (Zodiac Wolves Book 2)</td>\n",
              "      <td>Elizabeth Briggs</td>\n",
              "      <td>4.7 out of 5 stars</td>\n",
              "      <td>36</td>\n",
              "      <td>$4.99</td>\n",
              "    </tr>\n",
              "    <tr>\n",
              "      <th>1</th>\n",
              "      <td>The Truth</td>\n",
              "      <td>Lauren Landish</td>\n",
              "      <td>4.7 out of 5 stars</td>\n",
              "      <td>50</td>\n",
              "      <td>$3.99</td>\n",
              "    </tr>\n",
              "    <tr>\n",
              "      <th>2</th>\n",
              "      <td>The Hunted One</td>\n",
              "      <td>Brittney Sahin</td>\n",
              "      <td>4.7 out of 5 stars</td>\n",
              "      <td>863</td>\n",
              "      <td>$3.99</td>\n",
              "    </tr>\n",
              "    <tr>\n",
              "      <th>3</th>\n",
              "      <td>A Day Like This: A Novel</td>\n",
              "      <td>Kelley McNeil</td>\n",
              "      <td>4.5 out of 5 stars</td>\n",
              "      <td>6,485</td>\n",
              "      <td>$4.99</td>\n",
              "    </tr>\n",
              "    <tr>\n",
              "      <th>4</th>\n",
              "      <td>Well Played</td>\n",
              "      <td>Vi Keeland</td>\n",
              "      <td>4.5 out of 5 stars</td>\n",
              "      <td>822</td>\n",
              "      <td>$4.99</td>\n",
              "    </tr>\n",
              "  </tbody>\n",
              "</table>\n",
              "</div>"
            ],
            "text/plain": [
              "                            Book_Name            Author  ... Reviews  Price\n",
              "0  Star Cursed (Zodiac Wolves Book 2)  Elizabeth Briggs  ...      36  $4.99\n",
              "1                           The Truth    Lauren Landish  ...      50  $3.99\n",
              "2                      The Hunted One    Brittney Sahin  ...     863  $3.99\n",
              "3            A Day Like This: A Novel     Kelley McNeil  ...   6,485  $4.99\n",
              "4                         Well Played        Vi Keeland  ...     822  $4.99\n",
              "\n",
              "[5 rows x 5 columns]"
            ]
          },
          "metadata": {},
          "execution_count": 60
        }
      ]
    },
    {
      "cell_type": "code",
      "metadata": {
        "id": "c_g9B2t2xf2V"
      },
      "source": [
        "#History"
      ],
      "execution_count": null,
      "outputs": []
    },
    {
      "cell_type": "code",
      "metadata": {
        "colab": {
          "base_uri": "https://localhost:8080/",
          "height": 600
        },
        "id": "OfO--PPRxf6Z",
        "outputId": "a0569f2f-a071-4554-cacb-50a1c12ac532"
      },
      "source": [
        "best_sellers_HT = pd.read_csv(\"history.csv\")\n",
        "best_sellers_HT.head()"
      ],
      "execution_count": null,
      "outputs": [
        {
          "output_type": "execute_result",
          "data": {
            "text/html": [
              "<div>\n",
              "<style scoped>\n",
              "    .dataframe tbody tr th:only-of-type {\n",
              "        vertical-align: middle;\n",
              "    }\n",
              "\n",
              "    .dataframe tbody tr th {\n",
              "        vertical-align: top;\n",
              "    }\n",
              "\n",
              "    .dataframe thead th {\n",
              "        text-align: right;\n",
              "    }\n",
              "</style>\n",
              "<table border=\"1\" class=\"dataframe\">\n",
              "  <thead>\n",
              "    <tr style=\"text-align: right;\">\n",
              "      <th></th>\n",
              "      <th>Book_Name</th>\n",
              "      <th>Author</th>\n",
              "      <th>Ratings</th>\n",
              "      <th>Reviews</th>\n",
              "      <th>Price</th>\n",
              "    </tr>\n",
              "  </thead>\n",
              "  <tbody>\n",
              "    <tr>\n",
              "      <th>0</th>\n",
              "      <td>The Dawn of Everything: A New History of Humanity</td>\n",
              "      <td>David Graeber</td>\n",
              "      <td>5.0 out of 5 stars</td>\n",
              "      <td>7</td>\n",
              "      <td>$21.39</td>\n",
              "    </tr>\n",
              "    <tr>\n",
              "      <th>1</th>\n",
              "      <td>The President and the Freedom Fighter: Abraham...</td>\n",
              "      <td>Brian Kilmeade</td>\n",
              "      <td>-1</td>\n",
              "      <td>0</td>\n",
              "      <td>$18.18</td>\n",
              "    </tr>\n",
              "    <tr>\n",
              "      <th>2</th>\n",
              "      <td>Woke Up This Morning: The Definitive Oral Hist...</td>\n",
              "      <td>Michael Imperioli</td>\n",
              "      <td>5.0 out of 5 stars</td>\n",
              "      <td>1</td>\n",
              "      <td>$23.99</td>\n",
              "    </tr>\n",
              "    <tr>\n",
              "      <th>3</th>\n",
              "      <td>Sapiens: A Brief History of Humankind</td>\n",
              "      <td>Yuval Harari</td>\n",
              "      <td>4.6 out of 5 stars</td>\n",
              "      <td>49,275</td>\n",
              "      <td>$11.20</td>\n",
              "    </tr>\n",
              "    <tr>\n",
              "      <th>4</th>\n",
              "      <td>Not All Diamonds and Rosé: The Inside Story of...</td>\n",
              "      <td>Dave Quinn</td>\n",
              "      <td>4.1 out of 5 stars</td>\n",
              "      <td>278</td>\n",
              "      <td>$18.79</td>\n",
              "    </tr>\n",
              "  </tbody>\n",
              "</table>\n",
              "</div>"
            ],
            "text/plain": [
              "                                           Book_Name  ...   Price\n",
              "0  The Dawn of Everything: A New History of Humanity  ...  $21.39\n",
              "1  The President and the Freedom Fighter: Abraham...  ...  $18.18\n",
              "2  Woke Up This Morning: The Definitive Oral Hist...  ...  $23.99\n",
              "3              Sapiens: A Brief History of Humankind  ...  $11.20\n",
              "4  Not All Diamonds and Rosé: The Inside Story of...  ...  $18.79\n",
              "\n",
              "[5 rows x 5 columns]"
            ]
          },
          "metadata": {},
          "execution_count": 67
        }
      ]
    },
    {
      "cell_type": "code",
      "metadata": {
        "id": "iz49CkLqmwbo"
      },
      "source": [
        "# Comparing best sellers from each category with\n",
        "# best sellers in All books available to sale"
      ],
      "execution_count": null,
      "outputs": []
    },
    {
      "cell_type": "code",
      "metadata": {
        "colab": {
          "base_uri": "https://localhost:8080/",
          "height": 288
        },
        "id": "F-xP0LyQmwdq",
        "outputId": "8eeebeee-55fd-4ff4-dc24-d474632ba073"
      },
      "source": [
        "most_sales_in_SFF = set(best_sellers_AB['Book_Name']).intersection(best_sellers_SFF['Book_Name'])\n",
        "most_sales_in_SFF"
      ],
      "execution_count": null,
      "outputs": [
        {
          "output_type": "error",
          "ename": "TypeError",
          "evalue": "ignored",
          "traceback": [
            "\u001b[0;31m---------------------------------------------------------------------------\u001b[0m",
            "\u001b[0;31mTypeError\u001b[0m                                 Traceback (most recent call last)",
            "\u001b[0;32m<ipython-input-86-bff73c280c42>\u001b[0m in \u001b[0;36m<module>\u001b[0;34m()\u001b[0m\n\u001b[0;32m----> 1\u001b[0;31m \u001b[0mmost_sales_in_SFF\u001b[0m \u001b[0;34m=\u001b[0m \u001b[0mset\u001b[0m\u001b[0;34m(\u001b[0m\u001b[0mbest_sellers_AB\u001b[0m\u001b[0;34m[\u001b[0m\u001b[0;34m'Book_Name'\u001b[0m\u001b[0;34m]\u001b[0m\u001b[0;34m)\u001b[0m\u001b[0;34m.\u001b[0m\u001b[0mintersection\u001b[0m\u001b[0;34m(\u001b[0m\u001b[0mbest_sellers_SFF\u001b[0m\u001b[0;34m[\u001b[0m\u001b[0;34m'Book_Name'\u001b[0m\u001b[0;34m]\u001b[0m\u001b[0;34m)\u001b[0m\u001b[0;34m\u001b[0m\u001b[0;34m\u001b[0m\u001b[0m\n\u001b[0m\u001b[1;32m      2\u001b[0m \u001b[0mmost_sales_in_SFF\u001b[0m\u001b[0;34m\u001b[0m\u001b[0;34m\u001b[0m\u001b[0m\n",
            "\u001b[0;31mTypeError\u001b[0m: string indices must be integers"
          ]
        }
      ]
    },
    {
      "cell_type": "code",
      "metadata": {
        "colab": {
          "base_uri": "https://localhost:8080/",
          "height": 288
        },
        "id": "23O-km0Cpjjn",
        "outputId": "d94ecad5-ce8a-46e8-f81a-0a39a986a735"
      },
      "source": [
        "most_sales_in_CT = list(np.intersect1d(best_sellers_AB['Book_Name'],best_sellers_CT['Book_Name']))\n",
        "most_sales_in_CT"
      ],
      "execution_count": null,
      "outputs": [
        {
          "output_type": "error",
          "ename": "TypeError",
          "evalue": "ignored",
          "traceback": [
            "\u001b[0;31m---------------------------------------------------------------------------\u001b[0m",
            "\u001b[0;31mTypeError\u001b[0m                                 Traceback (most recent call last)",
            "\u001b[0;32m<ipython-input-72-3896af8170a4>\u001b[0m in \u001b[0;36m<module>\u001b[0;34m()\u001b[0m\n\u001b[0;32m----> 1\u001b[0;31m \u001b[0mmost_sales_in_CT\u001b[0m \u001b[0;34m=\u001b[0m \u001b[0mlist\u001b[0m\u001b[0;34m(\u001b[0m\u001b[0mnp\u001b[0m\u001b[0;34m.\u001b[0m\u001b[0mintersect1d\u001b[0m\u001b[0;34m(\u001b[0m\u001b[0mbest_sellers_AB\u001b[0m\u001b[0;34m[\u001b[0m\u001b[0;34m'Book_Name'\u001b[0m\u001b[0;34m]\u001b[0m\u001b[0;34m,\u001b[0m\u001b[0mbest_sellers_CT\u001b[0m\u001b[0;34m[\u001b[0m\u001b[0;34m'Book_Name'\u001b[0m\u001b[0;34m]\u001b[0m\u001b[0;34m)\u001b[0m\u001b[0;34m)\u001b[0m\u001b[0;34m\u001b[0m\u001b[0;34m\u001b[0m\u001b[0m\n\u001b[0m\u001b[1;32m      2\u001b[0m \u001b[0mmost_sales_in_CT\u001b[0m\u001b[0;34m\u001b[0m\u001b[0;34m\u001b[0m\u001b[0m\n",
            "\u001b[0;31mTypeError\u001b[0m: string indices must be integers"
          ]
        }
      ]
    },
    {
      "cell_type": "code",
      "metadata": {
        "colab": {
          "base_uri": "https://localhost:8080/",
          "height": 288
        },
        "id": "C9FdFKE-qBZd",
        "outputId": "041818c9-7fab-4a65-dce0-adcb71169df1"
      },
      "source": [
        "most_sales_in_RS = list(np.intersect1d(best_sellers_AB['Book_Name'],best_sellers_RS['Book_Name']))\n",
        "most_sales_in_RS"
      ],
      "execution_count": null,
      "outputs": [
        {
          "output_type": "error",
          "ename": "TypeError",
          "evalue": "ignored",
          "traceback": [
            "\u001b[0;31m---------------------------------------------------------------------------\u001b[0m",
            "\u001b[0;31mTypeError\u001b[0m                                 Traceback (most recent call last)",
            "\u001b[0;32m<ipython-input-71-7000915cfd3a>\u001b[0m in \u001b[0;36m<module>\u001b[0;34m()\u001b[0m\n\u001b[0;32m----> 1\u001b[0;31m \u001b[0mmost_sales_in_RS\u001b[0m \u001b[0;34m=\u001b[0m \u001b[0mlist\u001b[0m\u001b[0;34m(\u001b[0m\u001b[0mnp\u001b[0m\u001b[0;34m.\u001b[0m\u001b[0mintersect1d\u001b[0m\u001b[0;34m(\u001b[0m\u001b[0mbest_sellers_AB\u001b[0m\u001b[0;34m[\u001b[0m\u001b[0;34m'Book_Name'\u001b[0m\u001b[0;34m]\u001b[0m\u001b[0;34m,\u001b[0m\u001b[0mbest_sellers_RS\u001b[0m\u001b[0;34m[\u001b[0m\u001b[0;34m'Book_Name'\u001b[0m\u001b[0;34m]\u001b[0m\u001b[0;34m)\u001b[0m\u001b[0;34m)\u001b[0m\u001b[0;34m\u001b[0m\u001b[0;34m\u001b[0m\u001b[0m\n\u001b[0m\u001b[1;32m      2\u001b[0m \u001b[0mmost_sales_in_RS\u001b[0m\u001b[0;34m\u001b[0m\u001b[0;34m\u001b[0m\u001b[0m\n",
            "\u001b[0;31mTypeError\u001b[0m: string indices must be integers"
          ]
        }
      ]
    },
    {
      "cell_type": "code",
      "metadata": {
        "colab": {
          "base_uri": "https://localhost:8080/",
          "height": 288
        },
        "id": "MTE1osWqxzB8",
        "outputId": "481b0b46-45a5-4996-ce4d-104fcd27ee7c"
      },
      "source": [
        "most_sales_in_ET = list(np.intersect1d(best_sellers_AB['Book_Name'],best_sellers_ET['Book_Name']))\n",
        "most_sales_in_ET"
      ],
      "execution_count": null,
      "outputs": [
        {
          "output_type": "error",
          "ename": "TypeError",
          "evalue": "ignored",
          "traceback": [
            "\u001b[0;31m---------------------------------------------------------------------------\u001b[0m",
            "\u001b[0;31mTypeError\u001b[0m                                 Traceback (most recent call last)",
            "\u001b[0;32m<ipython-input-69-bac83d7a8fa7>\u001b[0m in \u001b[0;36m<module>\u001b[0;34m()\u001b[0m\n\u001b[0;32m----> 1\u001b[0;31m \u001b[0mmost_sales_in_ET\u001b[0m \u001b[0;34m=\u001b[0m \u001b[0mlist\u001b[0m\u001b[0;34m(\u001b[0m\u001b[0mnp\u001b[0m\u001b[0;34m.\u001b[0m\u001b[0mintersect1d\u001b[0m\u001b[0;34m(\u001b[0m\u001b[0mbest_sellers_AB\u001b[0m\u001b[0;34m[\u001b[0m\u001b[0;34m'Book_Name'\u001b[0m\u001b[0;34m]\u001b[0m\u001b[0;34m,\u001b[0m\u001b[0mbest_sellers_ET\u001b[0m\u001b[0;34m[\u001b[0m\u001b[0;34m'Book_Name'\u001b[0m\u001b[0;34m]\u001b[0m\u001b[0;34m)\u001b[0m\u001b[0;34m)\u001b[0m\u001b[0;34m\u001b[0m\u001b[0;34m\u001b[0m\u001b[0m\n\u001b[0m\u001b[1;32m      2\u001b[0m \u001b[0mmost_sales_in_ET\u001b[0m\u001b[0;34m\u001b[0m\u001b[0;34m\u001b[0m\u001b[0m\n",
            "\u001b[0;31mTypeError\u001b[0m: string indices must be integers"
          ]
        }
      ]
    },
    {
      "cell_type": "code",
      "metadata": {
        "id": "InVgrc4jxzGy"
      },
      "source": [
        ""
      ],
      "execution_count": null,
      "outputs": []
    },
    {
      "cell_type": "code",
      "metadata": {
        "id": "-nDtepUaxzKq"
      },
      "source": [
        ""
      ],
      "execution_count": null,
      "outputs": []
    },
    {
      "cell_type": "code",
      "metadata": {
        "id": "VNfJtoEMxzNj"
      },
      "source": [
        ""
      ],
      "execution_count": null,
      "outputs": []
    }
  ]
}